{
 "cells": [
  {
   "cell_type": "code",
   "execution_count": 1,
   "metadata": {},
   "outputs": [],
   "source": [
    "import pandas as pd\n",
    "import numpy as np\n",
    "import matplotlib.pyplot as plt"
   ]
  },
  {
   "cell_type": "markdown",
   "metadata": {},
   "source": [
    "# Table cleaning"
   ]
  },
  {
   "cell_type": "code",
   "execution_count": 3,
   "metadata": {},
   "outputs": [
    {
     "name": "stdout",
     "output_type": "stream",
     "text": [
      "pearson = 0.8616192242328242\n",
      "spearman = 0.840341688811574\n"
     ]
    }
   ],
   "source": [
    "data = pd.read_csv('/home/maligina/data/train_split_fluor.csv')\n",
    "data = data.rename(columns={'Absorption max (nm)' : 'Absorption_max_nm', \"Emission max (nm)\": \"Emission_max_nm\", \"Quantum yield\": \"Quantum_yield\", 'Stokes shift':'Stokes_shift'})\n",
    "print('pearson =', data['Absorption_max_nm'].corr(data['Emission_max_nm']))\n",
    "print('spearman =', data['Absorption_max_nm'].corr(data['Emission_max_nm'], method = 'spearman'))"
   ]
  },
  {
   "cell_type": "code",
   "execution_count": 4,
   "metadata": {},
   "outputs": [
    {
     "data": {
      "text/html": [
       "<div>\n",
       "<style scoped>\n",
       "    .dataframe tbody tr th:only-of-type {\n",
       "        vertical-align: middle;\n",
       "    }\n",
       "\n",
       "    .dataframe tbody tr th {\n",
       "        vertical-align: top;\n",
       "    }\n",
       "\n",
       "    .dataframe thead th {\n",
       "        text-align: right;\n",
       "    }\n",
       "</style>\n",
       "<table border=\"1\" class=\"dataframe\">\n",
       "  <thead>\n",
       "    <tr style=\"text-align: right;\">\n",
       "      <th></th>\n",
       "      <th>Absorption_max_nm</th>\n",
       "      <th>Emission_max_nm</th>\n",
       "      <th>Quantum_yield</th>\n",
       "      <th>Stokes_shift</th>\n",
       "      <th>Lifetime (ns)</th>\n",
       "      <th>Molecular weight (g mol-1)</th>\n",
       "    </tr>\n",
       "  </thead>\n",
       "  <tbody>\n",
       "    <tr>\n",
       "      <th>Absorption_max_nm</th>\n",
       "      <td>1.000000</td>\n",
       "      <td>0.840342</td>\n",
       "      <td>0.055636</td>\n",
       "      <td>-0.265575</td>\n",
       "      <td>0.026356</td>\n",
       "      <td>0.386295</td>\n",
       "    </tr>\n",
       "    <tr>\n",
       "      <th>Emission_max_nm</th>\n",
       "      <td>0.840342</td>\n",
       "      <td>1.000000</td>\n",
       "      <td>-0.085089</td>\n",
       "      <td>0.209451</td>\n",
       "      <td>-0.015456</td>\n",
       "      <td>0.335008</td>\n",
       "    </tr>\n",
       "    <tr>\n",
       "      <th>Quantum_yield</th>\n",
       "      <td>0.055636</td>\n",
       "      <td>-0.085089</td>\n",
       "      <td>1.000000</td>\n",
       "      <td>-0.225972</td>\n",
       "      <td>0.403750</td>\n",
       "      <td>0.175402</td>\n",
       "    </tr>\n",
       "    <tr>\n",
       "      <th>Stokes_shift</th>\n",
       "      <td>-0.265575</td>\n",
       "      <td>0.209451</td>\n",
       "      <td>-0.225972</td>\n",
       "      <td>1.000000</td>\n",
       "      <td>-0.046143</td>\n",
       "      <td>-0.064706</td>\n",
       "    </tr>\n",
       "    <tr>\n",
       "      <th>Lifetime (ns)</th>\n",
       "      <td>0.026356</td>\n",
       "      <td>-0.015456</td>\n",
       "      <td>0.403750</td>\n",
       "      <td>-0.046143</td>\n",
       "      <td>1.000000</td>\n",
       "      <td>-0.062479</td>\n",
       "    </tr>\n",
       "    <tr>\n",
       "      <th>Molecular weight (g mol-1)</th>\n",
       "      <td>0.386295</td>\n",
       "      <td>0.335008</td>\n",
       "      <td>0.175402</td>\n",
       "      <td>-0.064706</td>\n",
       "      <td>-0.062479</td>\n",
       "      <td>1.000000</td>\n",
       "    </tr>\n",
       "  </tbody>\n",
       "</table>\n",
       "</div>"
      ],
      "text/plain": [
       "                            Absorption_max_nm  Emission_max_nm  Quantum_yield  \\\n",
       "Absorption_max_nm                    1.000000         0.840342       0.055636   \n",
       "Emission_max_nm                      0.840342         1.000000      -0.085089   \n",
       "Quantum_yield                        0.055636        -0.085089       1.000000   \n",
       "Stokes_shift                        -0.265575         0.209451      -0.225972   \n",
       "Lifetime (ns)                        0.026356        -0.015456       0.403750   \n",
       "Molecular weight (g mol-1)           0.386295         0.335008       0.175402   \n",
       "\n",
       "                            Stokes_shift  Lifetime (ns)  \\\n",
       "Absorption_max_nm              -0.265575       0.026356   \n",
       "Emission_max_nm                 0.209451      -0.015456   \n",
       "Quantum_yield                  -0.225972       0.403750   \n",
       "Stokes_shift                    1.000000      -0.046143   \n",
       "Lifetime (ns)                  -0.046143       1.000000   \n",
       "Molecular weight (g mol-1)     -0.064706      -0.062479   \n",
       "\n",
       "                            Molecular weight (g mol-1)  \n",
       "Absorption_max_nm                             0.386295  \n",
       "Emission_max_nm                               0.335008  \n",
       "Quantum_yield                                 0.175402  \n",
       "Stokes_shift                                 -0.064706  \n",
       "Lifetime (ns)                                -0.062479  \n",
       "Molecular weight (g mol-1)                    1.000000  "
      ]
     },
     "execution_count": 4,
     "metadata": {},
     "output_type": "execute_result"
    }
   ],
   "source": [
    "data[['Absorption_max_nm', 'Emission_max_nm', 'Quantum_yield', 'Stokes_shift', 'Lifetime (ns)', 'Molecular weight (g mol-1)']].corr(method = 'spearman')"
   ]
  },
  {
   "cell_type": "code",
   "execution_count": 5,
   "metadata": {},
   "outputs": [
    {
     "data": {
      "text/html": [
       "<div>\n",
       "<style scoped>\n",
       "    .dataframe tbody tr th:only-of-type {\n",
       "        vertical-align: middle;\n",
       "    }\n",
       "\n",
       "    .dataframe tbody tr th {\n",
       "        vertical-align: top;\n",
       "    }\n",
       "\n",
       "    .dataframe thead th {\n",
       "        text-align: right;\n",
       "    }\n",
       "</style>\n",
       "<table border=\"1\" class=\"dataframe\">\n",
       "  <thead>\n",
       "    <tr style=\"text-align: right;\">\n",
       "      <th></th>\n",
       "      <th>Unnamed: 0</th>\n",
       "      <th>Tag</th>\n",
       "      <th>Chromophore</th>\n",
       "      <th>Solvent</th>\n",
       "      <th>Absorption_max_nm</th>\n",
       "      <th>Emission_max_nm</th>\n",
       "      <th>Lifetime (ns)</th>\n",
       "      <th>Quantum_yield</th>\n",
       "      <th>log(e/mol-1 dm3 cm-1)</th>\n",
       "      <th>abs FWHM (cm-1)</th>\n",
       "      <th>emi FWHM (cm-1)</th>\n",
       "      <th>abs FWHM (nm)</th>\n",
       "      <th>emi FWHM (nm)</th>\n",
       "      <th>Molecular weight (g mol-1)</th>\n",
       "      <th>Reference</th>\n",
       "      <th>Stokes_shift</th>\n",
       "    </tr>\n",
       "  </thead>\n",
       "  <tbody>\n",
       "    <tr>\n",
       "      <th>0</th>\n",
       "      <td>0</td>\n",
       "      <td>1</td>\n",
       "      <td>N#Cc1cc2ccc(O)cc2oc1=O</td>\n",
       "      <td>O</td>\n",
       "      <td>355.0</td>\n",
       "      <td>410.0</td>\n",
       "      <td>2.804262</td>\n",
       "      <td>NaN</td>\n",
       "      <td>NaN</td>\n",
       "      <td>NaN</td>\n",
       "      <td>NaN</td>\n",
       "      <td>NaN</td>\n",
       "      <td>NaN</td>\n",
       "      <td>187.15370</td>\n",
       "      <td>DOI: 10.1021/acs.jpcb.5b09905</td>\n",
       "      <td>55.0</td>\n",
       "    </tr>\n",
       "    <tr>\n",
       "      <th>1</th>\n",
       "      <td>1</td>\n",
       "      <td>2</td>\n",
       "      <td>N#Cc1cc2ccc([O-])cc2oc1=O</td>\n",
       "      <td>O</td>\n",
       "      <td>408.0</td>\n",
       "      <td>450.0</td>\n",
       "      <td>3.961965</td>\n",
       "      <td>NaN</td>\n",
       "      <td>NaN</td>\n",
       "      <td>NaN</td>\n",
       "      <td>NaN</td>\n",
       "      <td>NaN</td>\n",
       "      <td>43.0</td>\n",
       "      <td>186.14576</td>\n",
       "      <td>DOI: 10.1021/acs.jpcb.5b09905</td>\n",
       "      <td>42.0</td>\n",
       "    </tr>\n",
       "    <tr>\n",
       "      <th>2</th>\n",
       "      <td>2</td>\n",
       "      <td>3</td>\n",
       "      <td>CCCCCCCCCCCC#CC#CCCCCCCCCCN1C(=O)c2ccc3c4ccc5c...</td>\n",
       "      <td>ClC(Cl)Cl</td>\n",
       "      <td>526.0</td>\n",
       "      <td>535.0</td>\n",
       "      <td>3.602954</td>\n",
       "      <td>NaN</td>\n",
       "      <td>NaN</td>\n",
       "      <td>NaN</td>\n",
       "      <td>NaN</td>\n",
       "      <td>NaN</td>\n",
       "      <td>NaN</td>\n",
       "      <td>1061.54348</td>\n",
       "      <td>https://doi.org/10.1002/smll.201901342</td>\n",
       "      <td>9.0</td>\n",
       "    </tr>\n",
       "  </tbody>\n",
       "</table>\n",
       "</div>"
      ],
      "text/plain": [
       "   Unnamed: 0  Tag                                        Chromophore  \\\n",
       "0           0    1                             N#Cc1cc2ccc(O)cc2oc1=O   \n",
       "1           1    2                          N#Cc1cc2ccc([O-])cc2oc1=O   \n",
       "2           2    3  CCCCCCCCCCCC#CC#CCCCCCCCCCN1C(=O)c2ccc3c4ccc5c...   \n",
       "\n",
       "     Solvent  Absorption_max_nm  Emission_max_nm  Lifetime (ns)  \\\n",
       "0          O              355.0            410.0       2.804262   \n",
       "1          O              408.0            450.0       3.961965   \n",
       "2  ClC(Cl)Cl              526.0            535.0       3.602954   \n",
       "\n",
       "   Quantum_yield  log(e/mol-1 dm3 cm-1)  abs FWHM (cm-1)  emi FWHM (cm-1)  \\\n",
       "0            NaN                    NaN              NaN              NaN   \n",
       "1            NaN                    NaN              NaN              NaN   \n",
       "2            NaN                    NaN              NaN              NaN   \n",
       "\n",
       "   abs FWHM (nm)  emi FWHM (nm)  Molecular weight (g mol-1)  \\\n",
       "0            NaN            NaN                   187.15370   \n",
       "1            NaN           43.0                   186.14576   \n",
       "2            NaN            NaN                  1061.54348   \n",
       "\n",
       "                                Reference  Stokes_shift  \n",
       "0           DOI: 10.1021/acs.jpcb.5b09905          55.0  \n",
       "1           DOI: 10.1021/acs.jpcb.5b09905          42.0  \n",
       "2  https://doi.org/10.1002/smll.201901342           9.0  "
      ]
     },
     "execution_count": 5,
     "metadata": {},
     "output_type": "execute_result"
    }
   ],
   "source": [
    "data.head(3)"
   ]
  },
  {
   "cell_type": "code",
   "execution_count": 6,
   "metadata": {},
   "outputs": [
    {
     "name": "stdout",
     "output_type": "stream",
     "text": [
      "Unnamed: 0                        0\n",
      "Tag                               0\n",
      "Chromophore                       0\n",
      "Solvent                           0\n",
      "Absorption_max_nm              2737\n",
      "Emission_max_nm                1919\n",
      "Lifetime (ns)                 12103\n",
      "Quantum_yield                  5848\n",
      "log(e/mol-1 dm3 cm-1)         11135\n",
      "abs FWHM (cm-1)               17702\n",
      "emi FWHM (cm-1)               17820\n",
      "abs FWHM (nm)                 15147\n",
      "emi FWHM (nm)                 11850\n",
      "Molecular weight (g mol-1)        0\n",
      "Reference                         0\n",
      "Stokes_shift                   3906\n",
      "dtype: int64\n"
     ]
    }
   ],
   "source": [
    "print(data.isna().sum())"
   ]
  },
  {
   "cell_type": "code",
   "execution_count": 7,
   "metadata": {},
   "outputs": [
    {
     "name": "stdout",
     "output_type": "stream",
     "text": [
      "Number of outliers using IQR method: 908\n"
     ]
    },
    {
     "data": {
      "text/plain": [
       "(17478, 16)"
      ]
     },
     "execution_count": 7,
     "metadata": {},
     "output_type": "execute_result"
    }
   ],
   "source": [
    "Q1 = data['Molecular weight (g mol-1)'].quantile(0.25)\n",
    "Q3 = data['Molecular weight (g mol-1)'].quantile(0.75)\n",
    "IQR = Q3 - Q1\n",
    "\n",
    "# Define the lower and upper bounds for detecting outliers\n",
    "lower_bound = Q1 - 1.5 * IQR #тут примерно 941.3\n",
    "upper_bound = Q3 + 1.5 * IQR\n",
    "\n",
    "outliers_iqr = data[(data['Molecular weight (g mol-1)'] < lower_bound) | (data['Molecular weight (g mol-1)'] > upper_bound)]\n",
    "print(f\"Number of outliers using IQR method: {len(outliers_iqr)}\")\n",
    "\n",
    "data = data[(data['Molecular weight (g mol-1)'] >= lower_bound) & (data['Molecular weight (g mol-1)'] <= upper_bound)]\n",
    "data.shape"
   ]
  },
  {
   "cell_type": "code",
   "execution_count": 8,
   "metadata": {},
   "outputs": [
    {
     "data": {
      "text/plain": [
       "(13769, 16)"
      ]
     },
     "execution_count": 8,
     "metadata": {},
     "output_type": "execute_result"
    }
   ],
   "source": [
    "data = data[data['Stokes_shift'] >= 0]\n",
    "data.shape"
   ]
  },
  {
   "cell_type": "code",
   "execution_count": 9,
   "metadata": {},
   "outputs": [
    {
     "name": "stdout",
     "output_type": "stream",
     "text": [
      "(10341, 16)\n",
      "Unnamed: 0                       0\n",
      "Tag                              0\n",
      "Chromophore                      0\n",
      "Solvent                          0\n",
      "Absorption_max_nm                0\n",
      "Emission_max_nm                  0\n",
      "Lifetime (ns)                 5723\n",
      "Quantum_yield                    0\n",
      "log(e/mol-1 dm3 cm-1)         4758\n",
      "abs FWHM (cm-1)               9904\n",
      "emi FWHM (cm-1)               9928\n",
      "abs FWHM (nm)                 7994\n",
      "emi FWHM (nm)                 6381\n",
      "Molecular weight (g mol-1)       0\n",
      "Reference                        0\n",
      "Stokes_shift                     0\n",
      "dtype: int64\n"
     ]
    }
   ],
   "source": [
    "data_dropped = data.dropna(subset=['Absorption_max_nm', 'Emission_max_nm', 'Quantum_yield']).reset_index(drop=True)\n",
    "print(data_dropped.shape)\n",
    "print(data_dropped.isna().sum())"
   ]
  },
  {
   "cell_type": "code",
   "execution_count": 11,
   "metadata": {},
   "outputs": [
    {
     "data": {
      "image/png": "[encoded data removed]",
      "text/plain": [
       "<Figure size 640x480 with 1 Axes>"
      ]
     },
     "metadata": {},
     "output_type": "display_data"
    }
   ],
   "source": [
    "# data_dropped.hist(column=['Absorption_max_nm', 'Emission_max_nm', 'Quantum_yield', 'Stokes_shift'])\n",
    "data_dropped.boxplot(column=['Absorption_max_nm', 'Emission_max_nm', 'Quantum_yield', 'Stokes_shift'])\n",
    "plt.show()"
   ]
  },
  {
   "cell_type": "code",
   "execution_count": 12,
   "metadata": {},
   "outputs": [
    {
     "data": {
      "image/png": "[encoded data removed]",
      "text/plain": [
       "<Figure size 640x480 with 1 Axes>"
      ]
     },
     "metadata": {},
     "output_type": "display_data"
    }
   ],
   "source": [
    "data_dropped.hist(column=['Molecular weight (g mol-1)'])\n",
    "plt.show()"
   ]
  },
  {
   "cell_type": "code",
   "execution_count": 13,
   "metadata": {},
   "outputs": [
    {
     "data": {
      "text/html": [
       "<div>\n",
       "<style scoped>\n",
       "    .dataframe tbody tr th:only-of-type {\n",
       "        vertical-align: middle;\n",
       "    }\n",
       "\n",
       "    .dataframe tbody tr th {\n",
       "        vertical-align: top;\n",
       "    }\n",
       "\n",
       "    .dataframe thead th {\n",
       "        text-align: right;\n",
       "    }\n",
       "</style>\n",
       "<table border=\"1\" class=\"dataframe\">\n",
       "  <thead>\n",
       "    <tr style=\"text-align: right;\">\n",
       "      <th></th>\n",
       "      <th>Chromophore</th>\n",
       "      <th>Solvent</th>\n",
       "    </tr>\n",
       "  </thead>\n",
       "  <tbody>\n",
       "    <tr>\n",
       "      <th>0</th>\n",
       "      <td>O=C([O-])c1ccccc1-c1c2cc(Br)c(=O)c(Br)c-2oc2c(...</td>\n",
       "      <td>O</td>\n",
       "    </tr>\n",
       "    <tr>\n",
       "      <th>1</th>\n",
       "      <td>O=C([O-])c1ccccc1-c1c2cc(I)c(=O)c(I)c-2oc2c(I)...</td>\n",
       "      <td>O</td>\n",
       "    </tr>\n",
       "    <tr>\n",
       "      <th>2</th>\n",
       "      <td>O=C([O-])c1ccccc1-c1c2cc(I)c(=O)c(I)c-2oc2c(I)...</td>\n",
       "      <td>CO</td>\n",
       "    </tr>\n",
       "  </tbody>\n",
       "</table>\n",
       "</div>"
      ],
      "text/plain": [
       "                                         Chromophore Solvent\n",
       "0  O=C([O-])c1ccccc1-c1c2cc(Br)c(=O)c(Br)c-2oc2c(...       O\n",
       "1  O=C([O-])c1ccccc1-c1c2cc(I)c(=O)c(I)c-2oc2c(I)...       O\n",
       "2  O=C([O-])c1ccccc1-c1c2cc(I)c(=O)c(I)c-2oc2c(I)...      CO"
      ]
     },
     "execution_count": 13,
     "metadata": {},
     "output_type": "execute_result"
    }
   ],
   "source": [
    "X = data_dropped[['Chromophore', 'Solvent']]\n",
    "X.head(3)"
   ]
  },
  {
   "cell_type": "code",
   "execution_count": 14,
   "metadata": {},
   "outputs": [
    {
     "name": "stderr",
     "output_type": "stream",
     "text": [
      "/tmp/ipykernel_599636/297302290.py:2: SettingWithCopyWarning: \n",
      "A value is trying to be set on a copy of a slice from a DataFrame.\n",
      "Try using .loc[row_indexer,col_indexer] = value instead\n",
      "\n",
      "See the caveats in the documentation: https://pandas.pydata.org/pandas-docs/stable/user_guide/indexing.html#returning-a-view-versus-a-copy\n",
      "  y['Absorption_max_nm'] = np.log10(y['Absorption_max_nm'])\n"
     ]
    },
    {
     "data": {
      "text/html": [
       "<div>\n",
       "<style scoped>\n",
       "    .dataframe tbody tr th:only-of-type {\n",
       "        vertical-align: middle;\n",
       "    }\n",
       "\n",
       "    .dataframe tbody tr th {\n",
       "        vertical-align: top;\n",
       "    }\n",
       "\n",
       "    .dataframe thead th {\n",
       "        text-align: right;\n",
       "    }\n",
       "</style>\n",
       "<table border=\"1\" class=\"dataframe\">\n",
       "  <thead>\n",
       "    <tr style=\"text-align: right;\">\n",
       "      <th></th>\n",
       "      <th>Absorption_max_nm</th>\n",
       "      <th>Quantum_yield</th>\n",
       "      <th>Stokes_shift</th>\n",
       "    </tr>\n",
       "  </thead>\n",
       "  <tbody>\n",
       "    <tr>\n",
       "      <th>0</th>\n",
       "      <td>2.711807</td>\n",
       "      <td>0.20</td>\n",
       "      <td>23.0</td>\n",
       "    </tr>\n",
       "    <tr>\n",
       "      <th>1</th>\n",
       "      <td>2.716838</td>\n",
       "      <td>0.02</td>\n",
       "      <td>13.0</td>\n",
       "    </tr>\n",
       "    <tr>\n",
       "      <th>2</th>\n",
       "      <td>2.720986</td>\n",
       "      <td>0.08</td>\n",
       "      <td>19.0</td>\n",
       "    </tr>\n",
       "  </tbody>\n",
       "</table>\n",
       "</div>"
      ],
      "text/plain": [
       "   Absorption_max_nm  Quantum_yield  Stokes_shift\n",
       "0           2.711807           0.20          23.0\n",
       "1           2.716838           0.02          13.0\n",
       "2           2.720986           0.08          19.0"
      ]
     },
     "execution_count": 14,
     "metadata": {},
     "output_type": "execute_result"
    }
   ],
   "source": [
    "y = data_dropped[['Absorption_max_nm', 'Quantum_yield', 'Stokes_shift']]\n",
    "y['Absorption_max_nm'] = np.log10(y['Absorption_max_nm'])\n",
    "y.head(3)"
   ]
  },
  {
   "cell_type": "code",
   "execution_count": 15,
   "metadata": {},
   "outputs": [],
   "source": [
    "# data_dropped.to_csv('/home/maligina/data/train_clean.csv')"
   ]
  },
  {
   "cell_type": "markdown",
   "metadata": {},
   "source": [
    "# Database preparation"
   ]
  },
  {
   "cell_type": "code",
   "execution_count": 2,
   "metadata": {},
   "outputs": [],
   "source": [
    "data_dropped = pd.read_csv('/home/maligina/data/train_clean.csv')\n",
    "# data_dropped.head(3)"
   ]
  },
  {
   "cell_type": "code",
   "execution_count": 3,
   "metadata": {},
   "outputs": [],
   "source": [
    "from rdkit import Chem\n",
    "from rdkit.Chem import AllChem\n",
    "from ase import Atoms\n",
    "from ase.db import connect\n",
    "from rdkit.Chem import rdForceFieldHelpers"
   ]
  },
  {
   "cell_type": "code",
   "execution_count": 11,
   "metadata": {},
   "outputs": [
    {
     "name": "stdout",
     "output_type": "stream",
     "text": [
      "263\n"
     ]
    }
   ],
   "source": [
    "# # Connect to the existing database\n",
    "# db_old = connect('solvent.db')\n",
    "# # Create a new database to store filtered molecules\n",
    "# db_new = connect('filtered_solvent.db')\n",
    "\n",
    "# # Iterate through the existing database\n",
    "# for row in db_old.select():\n",
    "#     atoms = row.toatoms()\n",
    "    \n",
    "#     # Check if iodine (atomic number 53) is present\n",
    "#     if 53 not in atoms.get_atomic_numbers():\n",
    "#         # Write the entry to the new database\n",
    "#         db_new.write(atoms, key_value_pairs=row.key_value_pairs)\n",
    "# print(len(db_new))"
   ]
  },
  {
   "cell_type": "code",
   "execution_count": 6,
   "metadata": {},
   "outputs": [
    {
     "name": "stdout",
     "output_type": "stream",
     "text": [
      "4391\n"
     ]
    }
   ],
   "source": [
    "# # Connect to the existing database\n",
    "# db_old = connect('chromophore.db')\n",
    "# # Create a new database to store filtered molecules\n",
    "# db_new = connect('filtered_chromophore.db')\n",
    "\n",
    "# # Iterate through the existing database\n",
    "# for row in db_old.select():\n",
    "#     atoms = row.toatoms()\n",
    "    \n",
    "#     # Check if iodine (atomic number 53) is present\n",
    "#     if 53 not in atoms.get_atomic_numbers():\n",
    "#         # Write the entry to the new database\n",
    "#         db_new.write(atoms, key_value_pairs=row.key_value_pairs)\n",
    "# print(len(db_new))"
   ]
  },
  {
   "cell_type": "code",
   "execution_count": 48,
   "metadata": {},
   "outputs": [],
   "source": [
    "def smiles_to_ase(smiles):\n",
    "    mol = Chem.MolFromSmiles(smiles)\n",
    "    mol = Chem.AddHs(mol)\n",
    "    \n",
    "    # Embed with multiple attempts to handle difficult molecules\n",
    "    try:\n",
    "        AllChem.EmbedMolecule(mol, maxAttempts=1000)\n",
    "        # ff = rdForceFieldHelpers.UFFGetMoleculeForceField(mol)\n",
    "        # print(f'Energy for {smiles} before: {ff.CalcEnergy()}')\n",
    "        AllChem.UFFOptimizeMolecule(mol, maxIters=10000)\n",
    "        # ff = rdForceFieldHelpers.UFFGetMoleculeForceField(mol)\n",
    "        # print(f'Energy after: {ff.CalcEnergy()}')\n",
    "    except ValueError:\n",
    "        print(f\"Failed to generate 3D conformer for SMILES: {smiles}\")\n",
    "        return None\n",
    "    \n",
    "    conformer = mol.GetConformer()\n",
    "    positions = []\n",
    "    symbols = []\n",
    "    \n",
    "    for atom in mol.GetAtoms():\n",
    "        pos = conformer.GetAtomPosition(atom.GetIdx())\n",
    "        positions.append((pos.x, pos.y, pos.z))\n",
    "        symbols.append(atom.GetSymbol())\n",
    "    \n",
    "    return Atoms(symbols=symbols, positions=positions)"
   ]
  },
  {
   "cell_type": "code",
   "execution_count": 7,
   "metadata": {},
   "outputs": [
    {
     "name": "stdout",
     "output_type": "stream",
     "text": [
      "Failed to generate 3D conformer for SMILES: COCCOCCOCCNc1cc2c3c(c(NCCOCCOCCOC)cc4c3c1C(=O)N(CCOCCOCCOC)C4=O)C(=O)N(CCOCCOCCOC)C2=O, Error: Bad Conformer Id\n",
      "Failed to generate 3D conformer for SMILES: CCCCCCCCC1(CCCCCCCC)c2cc(-c3ccc([Si](C)(C)C)cc3)ccc2-c2ccc(-c3ccc([Si](C)(C)C)cc3)cc21, Error: Bad Conformer Id\n",
      "Failed to generate 3D conformer for SMILES: C(=C/c1cc(/C=C/c2ccc(N(c3ccccc3)c3ccccc3)cc2)nc(/C=C/c2ccc(N(c3ccccc3)c3ccccc3)cc2)n1)\\c1ccc(N(c2ccccc2)c2ccccc2)cc1, Error: Bad Conformer Id\n"
     ]
    },
    {
     "name": "stderr",
     "output_type": "stream",
     "text": [
      "[07:28:04] UFFTYPER: Warning: hybridization set to SP3 for atom 4\n",
      "[07:28:04] UFFTYPER: Warning: hybridization set to SP3 for atom 4\n",
      "[07:28:04] UFFTYPER: Unrecognized charge state for atom: 1\n",
      "[07:28:04] UFFTYPER: Unrecognized charge state for atom: 1\n",
      "[07:28:04] UFFTYPER: Unrecognized charge state for atom: 1\n",
      "[07:28:04] UFFTYPER: Unrecognized charge state for atom: 1\n",
      "[07:28:04] UFFTYPER: Unrecognized charge state for atom: 1\n",
      "[07:28:04] UFFTYPER: Unrecognized charge state for atom: 1\n"
     ]
    },
    {
     "name": "stdout",
     "output_type": "stream",
     "text": [
      "Failed to generate 3D conformer for SMILES: CCCCCCCCCCCCCCCCOc1cc(C#Cc2ccc3ccccc3c2)c(OCCCCCCCCCCCCCCCC)cc1C#Cc1ccc(C=C(C#N)C#N)cc1, Error: Bad Conformer Id\n",
      "Failed to generate 3D conformer for SMILES: CCCCCCCCCCOc1cc(OCCCCCCCCCC)cc(C2=C3C(C)=CC(/C=C/c4ccc(OC)cc4)=[N+]3[B-](F)(F)n3c(/C=C/c4ccc(OC)cc4)cc(C)c32)c1, Error: Bad Conformer Id\n",
      "Failed to generate 3D conformer for SMILES: CCCCCCCCC1(CCCCCCCC)c2cc(-c3ccc(C=C4C(=O)c5ccccc5C4=O)cc3)ccc2-c2ccc(-c3ccc(C=C4C(=O)c5ccccc5C4=O)cc3)cc21, Error: Bad Conformer Id\n",
      "Failed to generate 3D conformer for SMILES: C(=C/c1cc(/C=C/c2ccc(-n3c4ccccc4c4ccccc43)cc2)cc(/C=C/c2ccc(-n3c4ccccc4c4ccccc43)cc2)c1)\\c1ccc(-n2c3ccccc3c3ccccc32)cc1, Error: Bad Conformer Id\n",
      "Failed to generate 3D conformer for SMILES: c12c3c4c5c1c1c6c7c2c2c8c3c3c9c4c4c%10c5c5c1c1c6c6c%11c%12c%13c%14c%15c%16c%17c%14c%14c%18c%13c%11c1c1c5c%10c5c(c%14c%10c%17c%11c%13c%16c%14c%16c%15c%12c%12c%16c(c2c7c%126)c2c8c3c(c%13c%142)c2c9c4c5c%10c%112)c%181, Error: Bad Conformer Id\n"
     ]
    },
    {
     "name": "stderr",
     "output_type": "stream",
     "text": [
      "[07:32:03] UFFTYPER: Unrecognized atom type: Se2+2 (16)\n",
      "[07:32:03] UFFTYPER: Unrecognized atom type: Se2+2 (33)\n",
      "[07:32:03] UFFTYPER: Unrecognized atom type: Se2+2 (50)\n",
      "[07:32:03] UFFTYPER: Unrecognized atom type: Se2+2 (16)\n",
      "[07:32:03] UFFTYPER: Unrecognized atom type: Se2+2 (33)\n",
      "[07:32:03] UFFTYPER: Unrecognized atom type: Se2+2 (50)\n",
      "[07:32:09] UFFTYPER: Warning: hybridization set to SP3 for atom 5\n",
      "[07:32:09] UFFTYPER: Warning: hybridization set to SP3 for atom 5\n",
      "[07:32:09] UFFTYPER: Warning: hybridization set to SP3 for atom 7\n",
      "[07:32:09] UFFTYPER: Warning: hybridization set to SP3 for atom 7\n",
      "[07:32:09] UFFTYPER: Warning: hybridization set to SP3 for atom 6\n",
      "[07:32:09] UFFTYPER: Warning: hybridization set to SP3 for atom 6\n",
      "[07:32:09] UFFTYPER: Warning: hybridization set to SP3 for atom 9\n",
      "[07:32:09] UFFTYPER: Warning: hybridization set to SP3 for atom 9\n",
      "[07:32:09] UFFTYPER: Warning: hybridization set to SP3 for atom 8\n",
      "[07:32:09] UFFTYPER: Warning: hybridization set to SP3 for atom 8\n"
     ]
    },
    {
     "name": "stdout",
     "output_type": "stream",
     "text": [
      "Failed to generate 3D conformer for SMILES: C(=C1c2ccccc2CCc2ccccc21)c1ccc(-c2cc(-c3ccc(C=C4c5ccccc5CCc5ccccc54)cc3)cc(-c3ccc(C=C4c5ccccc5CCc5ccccc54)cc3)c2)cc1, Error: Bad Conformer Id\n",
      "Failed to generate 3D conformer for SMILES: C(=C(c1ccccc1)c1ccccc1)c1ccc(-c2cc(-c3ccc(C=C(c4ccccc4)c4ccccc4)cc3)cc(-c3ccc(C=C(c4ccccc4)c4ccccc4)cc3)c2)cc1, Error: Bad Conformer Id\n"
     ]
    },
    {
     "name": "stderr",
     "output_type": "stream",
     "text": [
      "[07:33:22] UFFTYPER: Warning: hybridization set to SP3 for atom 1\n",
      "[07:33:22] UFFTYPER: Unrecognized charge state for atom: 1\n",
      "[07:33:22] UFFTYPER: Warning: hybridization set to SP3 for atom 1\n",
      "[07:33:22] UFFTYPER: Unrecognized charge state for atom: 1\n",
      "[07:33:22] UFFTYPER: Warning: hybridization set to SP3 for atom 1\n",
      "[07:33:22] UFFTYPER: Unrecognized charge state for atom: 1\n",
      "[07:33:23] UFFTYPER: Warning: hybridization set to SP3 for atom 1\n",
      "[07:33:23] UFFTYPER: Unrecognized charge state for atom: 1\n",
      "[07:33:23] UFFTYPER: Warning: hybridization set to SP3 for atom 1\n",
      "[07:33:23] UFFTYPER: Unrecognized charge state for atom: 1\n",
      "[07:33:23] UFFTYPER: Warning: hybridization set to SP3 for atom 1\n",
      "[07:33:23] UFFTYPER: Unrecognized charge state for atom: 1\n",
      "[07:33:23] UFFTYPER: Warning: hybridization set to SP3 for atom 1\n",
      "[07:33:23] UFFTYPER: Unrecognized charge state for atom: 1\n",
      "[07:33:23] UFFTYPER: Warning: hybridization set to SP3 for atom 1\n",
      "[07:33:23] UFFTYPER: Unrecognized charge state for atom: 1\n",
      "[07:33:23] UFFTYPER: Warning: hybridization set to SP3 for atom 1\n",
      "[07:33:23] UFFTYPER: Unrecognized charge state for atom: 1\n",
      "[07:33:23] UFFTYPER: Warning: hybridization set to SP3 for atom 1\n",
      "[07:33:23] UFFTYPER: Unrecognized charge state for atom: 1\n",
      "[07:33:32] UFFTYPER: Warning: hybridization set to SP3 for atom 16\n",
      "[07:33:32] UFFTYPER: Warning: hybridization set to SP3 for atom 16\n",
      "[07:33:33] UFFTYPER: Warning: hybridization set to SP3 for atom 17\n",
      "[07:33:34] UFFTYPER: Warning: hybridization set to SP3 for atom 17\n",
      "[07:33:39] UFFTYPER: Warning: hybridization set to SP3 for atom 14\n",
      "[07:33:39] UFFTYPER: Warning: hybridization set to SP3 for atom 14\n",
      "[07:33:39] UFFTYPER: Warning: hybridization set to SP3 for atom 4\n",
      "[07:33:39] UFFTYPER: Warning: hybridization set to SP3 for atom 4\n",
      "[07:33:39] UFFTYPER: Warning: hybridization set to SP3 for atom 26\n",
      "[07:33:39] UFFTYPER: Warning: hybridization set to SP3 for atom 35\n",
      "[07:33:39] UFFTYPER: Warning: hybridization set to SP3 for atom 26\n",
      "[07:33:39] UFFTYPER: Warning: hybridization set to SP3 for atom 35\n"
     ]
    },
    {
     "name": "stdout",
     "output_type": "stream",
     "text": [
      "Failed to generate 3D conformer for SMILES: CC1(C)[C@@H]2CC[C@]1(C)c1nc3cc(-c4cccs4)ccc3nc12, Error: Bad Conformer Id\n"
     ]
    },
    {
     "name": "stderr",
     "output_type": "stream",
     "text": [
      "[07:34:16] UFFTYPER: Unrecognized atom type: Se2+2 (4)\n",
      "[07:34:16] UFFTYPER: Unrecognized atom type: Se2+2 (4)\n",
      "[07:34:16] UFFTYPER: Unrecognized atom type: Se2+2 (19)\n",
      "[07:34:16] UFFTYPER: Unrecognized atom type: Se2+2 (19)\n",
      "[07:34:16] UFFTYPER: Unrecognized atom type: Se2+2 (4)\n",
      "[07:34:16] UFFTYPER: Unrecognized atom type: Se2+2 (4)\n",
      "[07:34:16] UFFTYPER: Unrecognized atom type: Se2+2 (27)\n",
      "[07:34:16] UFFTYPER: Unrecognized atom type: Se2+2 (27)\n",
      "[07:34:16] UFFTYPER: Unrecognized atom type: Se2+2 (13)\n",
      "[07:34:16] UFFTYPER: Unrecognized atom type: Se2+2 (13)\n",
      "[07:34:16] UFFTYPER: Unrecognized atom type: Se2+2 (31)\n",
      "[07:34:16] UFFTYPER: Unrecognized atom type: Se2+2 (31)\n",
      "[07:34:54] UFFTYPER: Unrecognized charge state for atom: 1\n",
      "[07:34:54] UFFTYPER: Unrecognized charge state for atom: 1\n",
      "[07:34:54] UFFTYPER: Warning: hybridization set to SP3 for atom 1\n",
      "[07:34:54] UFFTYPER: Warning: hybridization set to SP3 for atom 1\n"
     ]
    },
    {
     "name": "stdout",
     "output_type": "stream",
     "text": [
      "Failed to generate 3D conformer for SMILES: CCn1c2ccccc2c2cc(/C=C/c3cc(/C=C/c4ccc5c(c4)c4ccccc4n5CC)[n+](CCCS(=O)(=O)[O-])c(/C=C/c4ccc5c(c4)c4ccccc4n5CC)c3)ccc21, Error: Bad Conformer Id\n",
      "Failed to generate 3D conformer for SMILES: CC(C)(C)c1ccc(C#Cc2nc(C#Cc3ccc(C(C)(C)C)cc3)c(C#Cc3ccc(C(C)(C)C)cc3)c(C#Cc3ccc(C(C)(C)C)cc3)c2C#Cc2ccc(C(C)(C)C)cc2)cc1, Error: Bad Conformer Id\n",
      "Failed to generate 3D conformer for SMILES: CC(C)(C)c1ccc(C#Cc2cc(C#Cc3ccc(C(C)(C)C)cc3)c(C#Cc3ccc(C(C)(C)C)cc3)c(C#Cc3ccc(C(C)(C)C)cc3)c2C#Cc2ccc(C(C)(C)C)cc2)cc1, Error: Bad Conformer Id\n",
      "Failed to generate 3D conformer for SMILES: CCCCCCCCCCCCC(CCCCCCCCCC)Cn1c2cc(/C=C/c3nc4ccccc4s3)c3cccc4c5cccc6c(/C=C/c7nc8ccccc8s7)cc1c(c65)c2c34, Error: Bad Conformer Id\n",
      "Failed to generate 3D conformer for SMILES: CCCCCCCCCCCCC(CCCCCCCCCC)Cn1c2cc(C=C(C#N)C#N)c3cccc4c5cccc6c(C=C(C#N)C#N)cc1c(c65)c2c34, Error: Bad Conformer Id\n",
      "Failed to generate 3D conformer for SMILES: CCCCCCCCCCCCC(CCCCCCCCCC)Cn1c2cc(/C=C/C=C(C#N)C#N)c3cccc4c5cccc6c(/C=C/C=C(C#N)C#N)cc1c(c65)c2c34, Error: Bad Conformer Id\n",
      "Failed to generate 3D conformer for SMILES: COC(=O)C[C@H](Cc1c[nH]c2ccccc12)NC(=O)[C@H](CC(=O)N[C@@H](CC1=CCc2ccccc21)C(=O)OC)NC(=O)[C@H](Cc1c[nH]c2ccccc12)NC(=O)OC(C)(C)C, Error: Bad Conformer Id\n",
      "Failed to generate 3D conformer for SMILES: CC1=CC(/C=C/c2ccc(OCCN3CCCCC3)cc2)=[N+]2C1=C(c1ccc(OCCN3CCCCC3)cc1)c1c(C)cc(/C=C/c3ccc(OCCN4CCCCC4)cc3)n1[B-]2(F)F, Error: Bad Conformer Id\n",
      "Failed to generate 3D conformer for SMILES: CCCCCCCCCCCCOc1cc(C(=O)Nc2ccc(-c3ccc4c(c3)C(=O)c3ccccc3-4)cc2)cc(OCCCCCCCCCCCC)c1OCCCCCCCCCCCC, Error: Bad Conformer Id\n",
      "Failed to generate 3D conformer for SMILES: CCCCCc1ccc(C#Cc2cc(C#Cc3ccc(CCCCC)cc3)c3ccc4c(C(=O)c5ccccc5)cc(C#Cc5ccc(CCCCC)cc5)c5ccc2c3c54)cc1, Error: Bad Conformer Id\n"
     ]
    },
    {
     "name": "stderr",
     "output_type": "stream",
     "text": [
      "[07:36:34] UFFTYPER: Unrecognized charge state for atom: 29\n",
      "[07:36:34] UFFTYPER: Unrecognized charge state for atom: 29\n",
      "[07:36:35] UFFTYPER: Unrecognized charge state for atom: 29\n",
      "[07:36:35] UFFTYPER: Unrecognized charge state for atom: 29\n"
     ]
    },
    {
     "name": "stdout",
     "output_type": "stream",
     "text": [
      "Failed to generate 3D conformer for SMILES: CC(C)(C)NC(=O)c1ccc(C(=O)NC(C)(C)C)c2c1c1c3ccccc3c3ccccc3c1c1c3ccccc3c3ccccc3c21, Error: Bad Conformer Id\n",
      "Failed to generate 3D conformer for SMILES: CC(C)(C)NC(=O)c1ccc(C(=O)NC(C)(C)C)c2c1c1c3ccc(Cl)cc3c3cc(Cl)ccc3c1c1c3ccc(Cl)cc3c3cc(Cl)ccc3c21, Error: Bad Conformer Id\n",
      "Failed to generate 3D conformer for SMILES: COc1ccc2c(c1)c1cc(OC)ccc1c1c2c2c(C(=O)NC(C)(C)C)ccc(C(=O)NC(C)(C)C)c2c2c3ccc(OC)cc3c3cc(OC)ccc3c21, Error: Bad Conformer Id\n",
      "Failed to generate 3D conformer for SMILES: CC(C)(C)c1ccc2c(c1)-c1c3c(c4c5c1-c1cc(C(C)(C)C)ccc1OB5Oc1ccc(C(C)(C)C)cc1-4)-c1cc(C(C)(C)C)ccc1OB3O2, Error: Bad Conformer Id\n",
      "Failed to generate 3D conformer for SMILES: CCCCCCCCCCCCOc1cc2c3c(ccc4c5c(OCCCCCCCCCCCC)cc6c7c(ccc(c1c34)c75)C(=O)N(C1CCCCC1)C6=O)C(=O)N(C1CCCCC1)C2=O, Error: Bad Conformer Id\n",
      "Failed to generate 3D conformer for SMILES: CCCCCCCCCCCCOc1cc2c3c(ccc4c5c(SCCCCCCCCCCCC)cc6c7c(ccc(c1c34)c75)C(=O)N(C1CCCCC1)C6=O)C(=O)N(C1CCCCC1)C2=O, Error: Bad Conformer Id\n",
      "Failed to generate 3D conformer for SMILES: CCCCCCCCCCOc1ccc2cc(C3=C4C(=O)N(CC(OCC)OCC)C(c5cc6ccc(OCCCCCCCCCC)cc6o5)=C4C(=O)N3CC(OCC)OCC)oc2c1, Error: Bad Conformer Id\n",
      "Failed to generate 3D conformer for SMILES: CCCCCCOc1cc(/C=C/c2cc(OCCCCCC)c(/C=C/c3cc(OCCCCCC)c(C=O)cc3OCCCCCC)cc2OCCCCCC)c(OCCCCCC)cc1C=O, Error: Bad Conformer Id\n",
      "Failed to generate 3D conformer for SMILES: CCCCCCCCOc1cc(/C=C/c2cc[n+](Cc3ccc(C)cc3)cc2)c(OCCCCCCCC)cc1/C=C/c1cc[n+](Cc2ccc(C)cc2)cc1, Error: Bad Conformer Id\n"
     ]
    },
    {
     "name": "stderr",
     "output_type": "stream",
     "text": [
      "[07:49:51] UFFTYPER: Unrecognized atom type: Se2+2 (10)\n",
      "[07:49:51] UFFTYPER: Unrecognized atom type: Se2+2 (16)\n",
      "[07:49:51] UFFTYPER: Unrecognized atom type: Se2+2 (10)\n",
      "[07:49:51] UFFTYPER: Unrecognized atom type: Se2+2 (16)\n",
      "[07:49:51] UFFTYPER: Unrecognized atom type: Se2+2 (10)\n",
      "[07:49:51] UFFTYPER: Unrecognized atom type: Se2+2 (16)\n"
     ]
    }
   ],
   "source": [
    "# Second version of code\n",
    "\n",
    "def smiles_to_ase(smiles):\n",
    "    mol = Chem.MolFromSmiles(smiles)\n",
    "    mol = Chem.AddHs(mol)\n",
    "    \n",
    "    # Embed with multiple attempts to handle difficult molecules\n",
    "    try:\n",
    "        AllChem.EmbedMolecule(mol, maxAttempts=1000)\n",
    "        AllChem.UFFOptimizeMolecule(mol, maxIters=10000)\n",
    "        \n",
    "        # # Check if conformer was successfully generated\n",
    "        # if mol.GetNumConformers() == 0:\n",
    "        #     raise ValueError(\"Conformer generation failed\")\n",
    "        \n",
    "    except ValueError as e:\n",
    "        print(f\"Failed to generate 3D conformer for SMILES: {smiles}, Error: {str(e)}\")\n",
    "        return None\n",
    "    \n",
    "    conformer = mol.GetConformer()\n",
    "    positions = []\n",
    "    symbols = []\n",
    "    \n",
    "    for atom in mol.GetAtoms():\n",
    "        pos = conformer.GetAtomPosition(atom.GetIdx())\n",
    "        positions.append((pos.x, pos.y, pos.z))\n",
    "        symbols.append(atom.GetSymbol())\n",
    "    \n",
    "    # # Check if symbols list is populated\n",
    "    # if not symbols:\n",
    "    #     print(f\"No valid atomic symbols for SMILES: {smiles}\")\n",
    "    #     return None\n",
    "    \n",
    "    return Atoms(symbols=symbols, positions=positions)\n",
    "\n",
    "# Connect to (or create) databases\n",
    "db_chromophore = connect('chromophore.db')\n",
    "db_solvent = connect('solvent.db')\n",
    "\n",
    "# Usage with unique chromophores and solvents\n",
    "unique_chromophores = data_dropped['Chromophore'].unique()\n",
    "unique_solvents = data_dropped['Solvent'].unique()\n",
    "\n",
    "# Iterate over chromophores\n",
    "for smiles in unique_chromophores:\n",
    "    chromophore_ase = smiles_to_ase(smiles)\n",
    "\n",
    "    if chromophore_ase:\n",
    "        db_chromophore.write(chromophore_ase, smiles=smiles)\n",
    "\n",
    "# Iterate over solvents\n",
    "for smiles in unique_solvents:\n",
    "    solvent_ase = smiles_to_ase(smiles)\n",
    "    \n",
    "    if solvent_ase:\n",
    "        db_solvent.write(solvent_ase, smiles=smiles)\n"
   ]
  },
  {
   "cell_type": "code",
   "execution_count": 49,
   "metadata": {},
   "outputs": [
    {
     "name": "stderr",
     "output_type": "stream",
     "text": [
      "<>:3: SyntaxWarning: invalid escape sequence '\\c'\n",
      "<>:7: SyntaxWarning: invalid escape sequence '\\c'\n",
      "<>:3: SyntaxWarning: invalid escape sequence '\\c'\n",
      "<>:7: SyntaxWarning: invalid escape sequence '\\c'\n",
      "/tmp/ipykernel_85223/3879483094.py:3: SyntaxWarning: invalid escape sequence '\\c'\n",
      "  'C(=C/c1cc(/C=C/c2ccc(N(c3ccccc3)c3ccccc3)cc2)nc(/C=C/c2ccc(N(c3ccccc3)c3ccccc3)cc2)n1)\\c1ccc(N(c2ccccc2)c2ccccc2)cc1',\n",
      "/tmp/ipykernel_85223/3879483094.py:7: SyntaxWarning: invalid escape sequence '\\c'\n",
      "  'C(=C/c1cc(/C=C/c2ccc(-n3c4ccccc4c4ccccc43)cc2)cc(/C=C/c2ccc(-n3c4ccccc4c4ccccc43)cc2)c1)\\c1ccc(-n2c3ccccc3c3ccccc32)cc1']\n"
     ]
    },
    {
     "name": "stdout",
     "output_type": "stream",
     "text": [
      "Failed to generate 3D conformer for SMILES: COCCOCCOCCNc1cc2c3c(c(NCCOCCOCCOC)cc4c3c1C(=O)N(CCOCCOCCOC)C4=O)C(=O)N(CCOCCOCCOC)C2=O\n",
      "Failed to generate 3D conformer for SMILES: CCCCCCCCC1(CCCCCCCC)c2cc(-c3ccc([Si](C)(C)C)cc3)ccc2-c2ccc(-c3ccc([Si](C)(C)C)cc3)cc21\n",
      "Failed to generate 3D conformer for SMILES: C(=C/c1cc(/C=C/c2ccc(N(c3ccccc3)c3ccccc3)cc2)nc(/C=C/c2ccc(N(c3ccccc3)c3ccccc3)cc2)n1)\\c1ccc(N(c2ccccc2)c2ccccc2)cc1\n",
      "Failed to generate 3D conformer for SMILES: CCCCCCCCCCCCCCCCOc1cc(C#Cc2ccc3ccccc3c2)c(OCCCCCCCCCCCCCCCC)cc1C#Cc1ccc(C=C(C#N)C#N)cc1\n",
      "Failed to generate 3D conformer for SMILES: CCCCCCCCCCOc1cc(OCCCCCCCCCC)cc(C2=C3C(C)=CC(/C=C/c4ccc(OC)cc4)=[N+]3[B-](F)(F)n3c(/C=C/c4ccc(OC)cc4)cc(C)c32)c1\n",
      "Failed to generate 3D conformer for SMILES: CCCCCCCCC1(CCCCCCCC)c2cc(-c3ccc(C=C4C(=O)c5ccccc5C4=O)cc3)ccc2-c2ccc(-c3ccc(C=C4C(=O)c5ccccc5C4=O)cc3)cc21\n",
      "Failed to generate 3D conformer for SMILES: C(=C/c1cc(/C=C/c2ccc(-n3c4ccccc4c4ccccc43)cc2)cc(/C=C/c2ccc(-n3c4ccccc4c4ccccc43)cc2)c1)\\c1ccc(-n2c3ccccc3c3ccccc32)cc1\n"
     ]
    }
   ],
   "source": [
    "stupid_smiles = ['COCCOCCOCCNc1cc2c3c(c(NCCOCCOCCOC)cc4c3c1C(=O)N(CCOCCOCCOC)C4=O)C(=O)N(CCOCCOCCOC)C2=O',\n",
    "                 'CCCCCCCCC1(CCCCCCCC)c2cc(-c3ccc([Si](C)(C)C)cc3)ccc2-c2ccc(-c3ccc([Si](C)(C)C)cc3)cc21',\n",
    "                 'C(=C/c1cc(/C=C/c2ccc(N(c3ccccc3)c3ccccc3)cc2)nc(/C=C/c2ccc(N(c3ccccc3)c3ccccc3)cc2)n1)\\c1ccc(N(c2ccccc2)c2ccccc2)cc1',\n",
    "                 'CCCCCCCCCCCCCCCCOc1cc(C#Cc2ccc3ccccc3c2)c(OCCCCCCCCCCCCCCCC)cc1C#Cc1ccc(C=C(C#N)C#N)cc1',\n",
    "                 'CCCCCCCCCCOc1cc(OCCCCCCCCCC)cc(C2=C3C(C)=CC(/C=C/c4ccc(OC)cc4)=[N+]3[B-](F)(F)n3c(/C=C/c4ccc(OC)cc4)cc(C)c32)c1',\n",
    "                 'CCCCCCCCC1(CCCCCCCC)c2cc(-c3ccc(C=C4C(=O)c5ccccc5C4=O)cc3)ccc2-c2ccc(-c3ccc(C=C4C(=O)c5ccccc5C4=O)cc3)cc21',\n",
    "                 'C(=C/c1cc(/C=C/c2ccc(-n3c4ccccc4c4ccccc43)cc2)cc(/C=C/c2ccc(-n3c4ccccc4c4ccccc43)cc2)c1)\\c1ccc(-n2c3ccccc3c3ccccc32)cc1']\n",
    "\n",
    "db_stupid = connect('stupid.db')\n",
    "\n",
    "# Iterate over chromophores\n",
    "for smiles in stupid_smiles:\n",
    "    stupid_ase = smiles_to_ase(smiles)\n",
    "\n",
    "    if stupid_ase:\n",
    "        db_stupid.write(stupid_ase, smiles=smiles)"
   ]
  },
  {
   "cell_type": "code",
   "execution_count": 6,
   "metadata": {},
   "outputs": [
    {
     "data": {
      "text/plain": [
       "480"
      ]
     },
     "execution_count": 6,
     "metadata": {},
     "output_type": "execute_result"
    }
   ],
   "source": [
    "db = connect('/home/maligina/conformers_10_solvent_test.db')\n",
    "# for row in db.select():\n",
    "#     atoms = row.toatoms()\n",
    "#     print(atoms)\n",
    "len(db)\n",
    "\n",
    "# for row in db.select():\n",
    "#     # Extract the 3D structure as an ASE Atoms object\n",
    "#     atoms = row.toatoms()\n",
    "#     forces = row.get('smiles', None)\n",
    "#     conformer_id = row.get('id', None)\n",
    "#     number = atoms.get_atomic_numbers()\n",
    "\n",
    "#     print(f'Atomic numbers: {number}')\n",
    "#     print(f\"Conformer ID: {conformer_id}\")\n",
    "#     print(f\"Smiles: {forces}\")\n",
    "    # print(f\"Positions:\\n{atoms.get_positions()}\")\n",
    "\n"
   ]
  },
  {
   "cell_type": "code",
   "execution_count": 32,
   "metadata": {},
   "outputs": [],
   "source": [
    "# Connect to (or create) databases\n",
    "db_chromophore = connect('chromophore.db')\n",
    "db_solvent = connect('solvent.db')\n",
    "\n",
    "# Usage with unique chromophores and solvents\n",
    "unique_chromophores = data_dropped['Chromophore'].unique() #4475\n",
    "unique_solvents = data_dropped['Solvent'].unique() #264\n",
    "\n",
    "# Iterate over chromophores\n",
    "for smiles in unique_chromophores:\n",
    "    chromophore_ase = smiles_to_ase(smiles)\n",
    "\n",
    "    # Write to respective databases\n",
    "    db_chromophore.write(chromophore_ase, smiles = smiles)\n",
    "\n",
    "# Iterate over rows in DataFrame\n",
    "for smiles in unique_solvents:\n",
    "    solvent_ase = smiles_to_ase(smiles)\n",
    "    \n",
    "    # Write to respective databases\n",
    "    db_solvent.write(solvent_ase, smiles = smiles)"
   ]
  },
  {
   "cell_type": "code",
   "execution_count": null,
   "metadata": {},
   "outputs": [],
   "source": [
    "from rdkit import Chem\n",
    "from rdkit.Chem import rdDistGeom, rdForceFieldHelpers\n",
    "from ase import Atoms\n",
    "from ase.db import connect\n",
    "import numpy as np\n",
    "import copy\n",
    "\n",
    "def generate_conformer(smiles, num_conformers=10):\n",
    "    mol = Chem.MolFromSmiles(smiles)\n",
    "    mol = Chem.AddHs(mol)\n",
    "    params = rdDistGeom.ETKDGv3()  # Embedding parameters\n",
    "    params.useRandomCoords = True\n",
    "    rdDistGeom.EmbedMultipleConfs(mol, numConfs=num_conformers, params=params)\n",
    "\n",
    "    # Minimize energy for all conformers\n",
    "    results = rdForceFieldHelpers.UFFOptimizeMoleculeConfs(mol, maxIters=10000)\n",
    "    energies = [energy for _, energy in results]\n",
    "\n",
    "    # Clone and reorder conformers according to their energies\n",
    "    mol_clone = copy.deepcopy(mol)\n",
    "    ordered_conformers = [conf for _, conf in sorted(zip(energies, mol_clone.GetConformers()), key=lambda x: x[0])]\n",
    "\n",
    "    # Return the conformer with the lowest energy\n",
    "    return ordered_conformers[0], mol\n",
    "\n",
    "def smiles_to_atoms(mol, conformer):\n",
    "    positions = mol.GetConformer(conformer.GetId()).GetPositions()\n",
    "    symbols = [atom.GetSymbol() for atom in mol.GetAtoms()]\n",
    "    return Atoms(symbols=symbols, positions=positions)\n",
    "\n",
    "def create_ase_db(smiles_list, db_name):\n",
    "    db = connect(db_name)\n",
    "    for smiles in smiles_list:\n",
    "        conformer, mol = generate_conformer(smiles)\n",
    "        atoms = smiles_to_atoms(mol, conformer)\n",
    "        db.write(atoms, smiles=smiles)\n",
    "\n",
    "# Usage with unique chromophores and solvents\n",
    "unique_chromophores = data_dropped['Chromophore'].unique()\n",
    "unique_solvents = data_dropped['Solvent'].unique()\n",
    "\n",
    "create_ase_db(unique_chromophores, 'chromophore.db')\n",
    "create_ase_db(unique_solvents, 'solvent.db')"
   ]
  },
  {
   "cell_type": "code",
   "execution_count": 43,
   "metadata": {},
   "outputs": [
    {
     "name": "stderr",
     "output_type": "stream",
     "text": [
      "<>:11: SyntaxWarning: invalid escape sequence '\\c'\n",
      "<>:11: SyntaxWarning: invalid escape sequence '\\c'\n",
      "/tmp/ipykernel_85223/455426856.py:11: SyntaxWarning: invalid escape sequence '\\c'\n",
      "  'C(=C/c1cc(/C=C/c2ccc(N(c3ccccc3)c3ccccc3)cc2)nc(/C=C/c2ccc(N(c3ccccc3)c3ccccc3)cc2)n1)\\c1ccc(N(c2ccccc2)c2ccccc2)cc1',\n"
     ]
    }
   ],
   "source": [
    "lala = ['[BH3-][P+]1(c2ccccc2)c2ccccc2-c2sc3ccccc3c21',\n",
    "        'c1ccc(-p2c3ccccc3c3sc4ccccc4c32)cc1',\n",
    "        'O=P1(c2ccccc2)c2ccccc2-c2sc3ccccc3c21',\n",
    "        'CCCCCCCCCCCCn1cccc1/C=C/c1ccc(OCCCC)c2c(/C=C/c3cccn3CCCCCCCCCCCC)ccc(OCCCC)c12',\n",
    "        'C[P+]1(c2ccccc2)c2ccccc2-c2sc3ccccc3c21',\n",
    "        'O=P1(c2ccccc2)C2=C(c3ccccc31)S(=O)(=O)c1ccccc12',\n",
    "'C[P+]1(c2ccccc2)C2=C(c3ccccc31)S(=O)(=O)c1ccccc12',\n",
    "'CCCCCC(=O)c1ccc2c3c(sc2c1)-c1ccccc1P3(=O)c1ccccc1',\n",
    "'COCCOCCOCCNc1cc2c3c(c(NCCOCCOCCOC)cc4c3c1C(=O)N(CCOCCOCCOC)C4=O)C(=O)N(CCOCCOCCOC)C2=O',\n",
    "'CCCCCCCCC1(CCCCCCCC)c2cc(-c3ccc([Si](C)(C)C)cc3)ccc2-c2ccc(-c3ccc([Si](C)(C)C)cc3)cc21',\n",
    "'C(=C/c1cc(/C=C/c2ccc(N(c3ccccc3)c3ccccc3)cc2)nc(/C=C/c2ccc(N(c3ccccc3)c3ccccc3)cc2)n1)\\c1ccc(N(c2ccccc2)c2ccccc2)cc1',\n",
    "'CCCCCCCCCCCCCCCCOc1cc(C#Cc2ccc3ccccc3c2)c(OCCCCCCCCCCCCCCCC)cc1C#Cc1ccc(C=C(C#N)C#N)cc1'\n",
    "]"
   ]
  },
  {
   "cell_type": "code",
   "execution_count": 23,
   "metadata": {},
   "outputs": [
    {
     "name": "stderr",
     "output_type": "stream",
     "text": [
      "[08:21:13] UFFTYPER: Unrecognized charge state for atom: 1\n",
      "[08:21:13] UFFTYPER: Unrecognized charge state for atom: 1\n",
      "[08:21:13] UFFTYPER: Warning: hybridization set to SP3 for atom 4\n",
      "[08:21:13] UFFTYPER: Warning: hybridization set to SP3 for atom 4\n",
      "[08:21:13] UFFTYPER: Unrecognized charge state for atom: 1\n",
      "[08:21:13] UFFTYPER: Unrecognized charge state for atom: 1\n",
      "[08:21:13] UFFTYPER: Unrecognized charge state for atom: 1\n",
      "[08:21:13] UFFTYPER: Unrecognized charge state for atom: 1\n"
     ]
    }
   ],
   "source": [
    "from rdkit import Chem\n",
    "from rdkit.Chem import rdDistGeom, rdForceFieldHelpers\n",
    "from ase import Atoms\n",
    "from ase.db import connect\n",
    "import numpy as np\n",
    "import copy\n",
    "\n",
    "def generate_conformer(smiles, num_conformers=1):\n",
    "    mol = Chem.MolFromSmiles(smiles)\n",
    "    mol = Chem.AddHs(mol)\n",
    "    params = rdDistGeom.ETKDGv3()  # Embedding parameters\n",
    "    params.useRandomCoords = True\n",
    "    rdDistGeom.EmbedMultipleConfs(mol, numConfs=num_conformers, params=params)\n",
    "\n",
    "    # Minimize energy for all conformers\n",
    "    results = rdForceFieldHelpers.UFFOptimizeMoleculeConfs(mol, maxIters=10000)\n",
    "    energies = [energy for _, energy in results]\n",
    "\n",
    "    # Clone and reorder conformers according to their energies\n",
    "    mol_clone = copy.deepcopy(mol)\n",
    "    ordered_conformers = [conf for _, conf in sorted(zip(energies, mol_clone.GetConformers()), key=lambda x: x[0])]\n",
    "    \n",
    "    return ordered_conformers[0], mol\n",
    "\n",
    "def smiles_to_atoms(mol, conformer):\n",
    "    positions = mol.GetConformer(conformer.GetId()).GetPositions()\n",
    "    symbols = [atom.GetSymbol() for atom in mol.GetAtoms()]\n",
    "    return Atoms(symbols=symbols, positions=positions)\n",
    "\n",
    "def create_ase_db(smiles_list, db_name):\n",
    "    db = connect(db_name)\n",
    "    for smiles in smiles_list:\n",
    "        conformer, mol = generate_conformer(smiles)\n",
    "        if conformer is None or mol is None:\n",
    "            print(f\"Skipping SMILES: {smiles} due to previous errors.\")\n",
    "            continue\n",
    "        atoms = smiles_to_atoms(mol, conformer)\n",
    "        db.write(atoms, smiles=smiles)\n",
    "\n",
    "# Usage with unique chromophores and solvents\n",
    "unique_chromophores = data_dropped['Chromophore'].unique()\n",
    "# unique_solvents = data_dropped['Solvent'].unique()\n",
    "\n",
    "create_ase_db(lala, 'lala.db')\n",
    "# create_ase_db(unique_solvents, 'solvent.db')"
   ]
  },
  {
   "cell_type": "code",
   "execution_count": 62,
   "metadata": {},
   "outputs": [
    {
     "name": "stdout",
     "output_type": "stream",
     "text": [
      "Skipping SMILES: [BH3-][P+]1(c2ccccc2)c2ccccc2-c2sc3ccccc3c21 due to unrecognized atom type.\n",
      "Skipping SMILES: [BH3-][P+]1(c2ccccc2)c2ccccc2-c2sc3ccccc3c21 due to previous errors.\n",
      "Skipping SMILES: c1ccc(-p2c3ccccc3c3sc4ccccc4c32)cc1 due to unrecognized atom type.\n",
      "Skipping SMILES: c1ccc(-p2c3ccccc3c3sc4ccccc4c32)cc1 due to previous errors.\n",
      "Skipping SMILES: C[P+]1(c2ccccc2)c2ccccc2-c2sc3ccccc3c21 due to unrecognized atom type.\n",
      "Skipping SMILES: C[P+]1(c2ccccc2)c2ccccc2-c2sc3ccccc3c21 due to previous errors.\n",
      "Skipping SMILES: C[P+]1(c2ccccc2)C2=C(c3ccccc31)S(=O)(=O)c1ccccc12 due to unrecognized atom type.\n",
      "Skipping SMILES: C[P+]1(c2ccccc2)C2=C(c3ccccc31)S(=O)(=O)c1ccccc12 due to previous errors.\n"
     ]
    }
   ],
   "source": [
    "from contextlib import redirect_stderr\n",
    "from io import StringIO\n",
    "import rdkit\n",
    "from rdkit import rdBase, Chem\n",
    "from rdkit.Chem import AllChem, rdDistGeom, rdForceFieldHelpers\n",
    "from ase import Atoms\n",
    "from ase.db import connect\n",
    "import copy\n",
    "\n",
    "# Redirect RDKit logs to stderr\n",
    "rdBase.LogToPythonStderr()\n",
    "\n",
    "def generate_conformer(smiles, num_conformers=1):\n",
    "    mol = Chem.MolFromSmiles(smiles)\n",
    "    mol = Chem.AddHs(mol)\n",
    "    \n",
    "    # Capture RDKit warnings and errors\n",
    "    with StringIO() as buf:\n",
    "        with redirect_stderr(buf):\n",
    "            try:\n",
    "                params = rdDistGeom.ETKDGv3()  # Embedding parameters\n",
    "                params.useRandomCoords = True\n",
    "                rdDistGeom.EmbedMultipleConfs(mol, numConfs=num_conformers, params=params)\n",
    "                results = rdForceFieldHelpers.UFFOptimizeMoleculeConfs(mol, maxIters=10000)\n",
    "            except Exception as e:\n",
    "                print(f\"Failed to generate 3D conformer for SMILES: {smiles}, Error: {e}\")\n",
    "                return None, None\n",
    "            \n",
    "            # Check for \"Unrecognized atom type\" messages\n",
    "            rdkit_output = buf.getvalue()\n",
    "            if \"UFFTYPER\" in rdkit_output:\n",
    "                print(f\"Skipping SMILES: {smiles} due to unrecognized atom type.\")\n",
    "                return None, None\n",
    "            \n",
    "    energies = [energy for _, energy in results]\n",
    "    \n",
    "    # Clone and reorder conformers according to their energies\n",
    "    mol_clone = copy.deepcopy(mol)\n",
    "    ordered_conformers = [conf for _, conf in sorted(zip(energies, mol_clone.GetConformers()), key=lambda x: x[0])]\n",
    "    \n",
    "    return ordered_conformers[0], mol\n",
    "\n",
    "def smiles_to_atoms(mol, conformer):\n",
    "    positions = mol.GetConformer(conformer.GetId()).GetPositions()\n",
    "    symbols = [atom.GetSymbol() for atom in mol.GetAtoms()]\n",
    "    return Atoms(symbols=symbols, positions=positions)\n",
    "\n",
    "def create_ase_db(smiles_list, db_name):\n",
    "    db = connect(db_name)\n",
    "    for smiles in smiles_list:\n",
    "        conformer, mol = generate_conformer(smiles)\n",
    "        if conformer is None or mol is None:\n",
    "            print(f\"Skipping SMILES: {smiles} due to previous errors.\")\n",
    "            continue\n",
    "        atoms = smiles_to_atoms(mol, conformer)\n",
    "        db.write(atoms, smiles=smiles)\n",
    "\n",
    "# Example usage with your list of SMILES strings\n",
    "create_ase_db(lala, 'lala.db')\n"
   ]
  },
  {
   "cell_type": "code",
   "execution_count": 4,
   "metadata": {},
   "outputs": [
    {
     "name": "stdout",
     "output_type": "stream",
     "text": [
      "Skipping SMILES: c1ccc(-p2c3ccccc3c3sc4ccccc4c32)cc1 due to unrecognized atom type.\n",
      "Skipping SMILES: [BH3-][P+]1(c2ccccc2)c2ccccc2-c2sc3ccccc3c21 due to unrecognized atom type.\n",
      "Skipping SMILES: C[P+]1(c2ccccc2)c2ccccc2-c2sc3ccccc3c21 due to unrecognized atom type.\n",
      "Skipping SMILES: C[P+]1(c2ccccc2)C2=C(c3ccccc31)S(=O)(=O)c1ccccc12 due to unrecognized atom type.\n",
      "Failed to generate 3D conformers for SMILES: c12c3c4c5c1c1c6c7c2c2c8c3c3c9c4c4c%10c5c5c1c1c6c6c%11c%12c%13c%14c%15c%16c%17c%14c%14c%18c%13c%11c1c1c5c%10c5c(c%14c%10c%17c%11c%13c%16c%14c%16c%15c%12c%12c%16c(c2c7c%126)c2c8c3c(c%13c%142)c2c9c4c5c%10c%112)c%181, Error: Bad Conformer Id\n",
      "Skipping SMILES: c1cc2ccc1-c1ccc(cc1)-c1ccc([se]1)-c1ccc(cc1)-c1ccc(cc1)-c1ccc([se]1)-c1ccc(cc1)-c1ccc(cc1)-c1ccc-2[se]1 due to unrecognized atom type.\n",
      "Skipping SMILES: c1ccc(-c2pc3ccccc3s2)cc1 due to unrecognized atom type.\n",
      "Skipping SMILES: COc1ccc(-c2pc3ccccc3s2)cc1 due to unrecognized atom type.\n",
      "Skipping SMILES: Brc1ccc(-c2pc3ccccc3s2)cc1 due to unrecognized atom type.\n",
      "Skipping SMILES: FC(F)(F)c1ccc(-c2pc3ccccc3s2)cc1 due to unrecognized atom type.\n",
      "Skipping SMILES: N#Cc1cccc(-c2pc3ccccc3s2)c1 due to unrecognized atom type.\n",
      "Skipping SMILES: F[Si-](F)(c1c2ccccc2cc2ccccc12)(c1c2ccccc2cc2ccccc12)c1c2ccccc2cc2ccccc12 due to unrecognized atom type.\n",
      "Skipping SMILES: F[Si-](F)(c1ccccc1)(c1c2ccccc2cc2ccccc12)c1c2ccccc2cc2ccccc12 due to unrecognized atom type.\n",
      "Skipping SMILES: F[Si-](F)(c1ccccc1)(c1ccccc1)c1c2ccccc2cc2ccccc12 due to unrecognized atom type.\n",
      "Skipping SMILES: F[Si-](F)(c1ccccc1)(c1ccccc1)c1cccc2ccccc12 due to unrecognized atom type.\n",
      "Skipping SMILES: F[Si-](F)(c1ccccc1)(c1ccccc1)c1cc2ccccc2c2ccccc12 due to unrecognized atom type.\n",
      "Skipping SMILES: c1ccc(-c2cc3cc4ccccc4cc3p2-c2ccccc2)cc1 due to unrecognized atom type.\n",
      "Skipping SMILES: O=S1(=O)c2ccccc2-c2c1c1ccccc1p2-c1ccccc1 due to unrecognized atom type.\n",
      "Skipping SMILES: COc1ccc(-c2cc3ccccc3p2-c2ccccc2)cc1 due to unrecognized atom type.\n",
      "Skipping SMILES: c1ccc(-p2c(-c3cccs3)cc3ccccc32)cc1 due to unrecognized atom type.\n",
      "Skipping SMILES: CC(C)(C)c1ccc(-c2cc3cc4c(cc(-c5ccc(C(C)(C)C)cc5)p4-c4ccccc4)cc3p2-c2ccccc2)cc1 due to unrecognized atom type.\n",
      "Failed to generate 3D conformers for SMILES: CC1(C)[C@@H]2CC[C@]1(C)c1nc3cc(-c4cccs4)ccc3nc12, Error: Bad Conformer Id\n",
      "Skipping SMILES: CN(C)c1[se]c(-c2ccccc2)nc1-c1ccccc1 due to unrecognized atom type.\n",
      "Skipping SMILES: COc1ccc(-c2nc(-c3ccccc3)c(N(C)C)[se]2)cc1 due to unrecognized atom type.\n",
      "Skipping SMILES: CN(C)c1[se]c(-c2ccc(Cl)cc2)nc1-c1ccccc1 due to unrecognized atom type.\n",
      "Skipping SMILES: c1ccc(-c2nc(-c3ccccc3)c(N(c3ccccc3)c3ccccc3)[se]2)cc1 due to unrecognized atom type.\n",
      "Skipping SMILES: c1ccc(-c2nc(-c3ccccn3)[se]c2N(c2ccccc2)c2ccccc2)cc1 due to unrecognized atom type.\n",
      "Skipping SMILES: c1ccc(-c2ccc(-c3nc(-c4ccccc4)c(N(c4ccccc4)c4ccccc4)[se]3)cc2)cc1 due to unrecognized atom type.\n",
      "Skipping SMILES: C[P+](c1c2ccccc2cc2ccccc12)(c1c2ccccc2cc2ccccc12)c1c2ccccc2cc2ccccc12 due to unrecognized atom type.\n",
      "Skipping SMILES: FP(F)(c1c2ccccc2cc2ccccc12)(c1c2ccccc2cc2ccccc12)c1c2ccccc2cc2ccccc12 due to unrecognized atom type.\n",
      "Skipping SMILES: Cc1ccc(/C2=c3\\cc/c(o3)=C(\\c3ccc(C)cc3)c3ccc([nH]3)-c3ccc4n3[P-](=O)(=O)[N+]3=C(C=CC3=C4c3ccc[nH]3)c3ccc2[nH]3)cc1 due to unrecognized atom type.\n",
      "Skipping SMILES: Cc1ccc(/C2=c3\\cc/c(o3)=C(\\c3ccc(C)cc3)c3ccc([nH]3)-c3ccc4n3[P-](=O)(=O)[N+]3=C(C=CC3=C4c3ccco3)c3ccc2[nH]3)cc1 due to unrecognized atom type.\n",
      "Failed to generate 3D conformers for SMILES: CC(C)(C)NC(=O)c1ccc(C(=O)NC(C)(C)C)c2c1c1c3ccccc3c3ccccc3c1c1c3ccccc3c3ccccc3c21, Error: Bad Conformer Id\n",
      "Failed to generate 3D conformers for SMILES: CC(C)(C)NC(=O)c1ccc(C(=O)NC(C)(C)C)c2c1c1c3ccc(Cl)cc3c3cc(Cl)ccc3c1c1c3ccc(Cl)cc3c3cc(Cl)ccc3c21, Error: Bad Conformer Id\n"
     ]
    }
   ],
   "source": [
    "from contextlib import redirect_stderr\n",
    "from io import StringIO\n",
    "import rdkit\n",
    "from rdkit import rdBase, Chem\n",
    "from rdkit.Chem import AllChem, rdDistGeom, rdForceFieldHelpers\n",
    "from ase import Atoms\n",
    "from ase.db import connect\n",
    "import copy\n",
    "\n",
    "# Redirect RDKit logs to stderr\n",
    "rdBase.LogToPythonStderr()\n",
    "\n",
    "def generate_conformers(smiles, num_conformers=10):\n",
    "    mol = Chem.MolFromSmiles(smiles)\n",
    "    mol = Chem.AddHs(mol)\n",
    "    \n",
    "    # Capture RDKit warnings and errors\n",
    "    with StringIO() as buf:\n",
    "        with redirect_stderr(buf):\n",
    "            try:\n",
    "                params = rdDistGeom.ETKDGv3()  # Embedding parameters\n",
    "                params.useRandomCoords = True\n",
    "                rdDistGeom.EmbedMultipleConfs(mol, numConfs=num_conformers, params=params)\n",
    "                results = rdForceFieldHelpers.UFFOptimizeMoleculeConfs(mol, maxIters=10000)\n",
    "            except Exception as e:\n",
    "                print(f\"Failed to generate 3D conformers for SMILES: {smiles}, Error: {e}\")\n",
    "                return None, None\n",
    "            \n",
    "            # Check for \"Unrecognized atom type\" messages\n",
    "            rdkit_output = buf.getvalue()\n",
    "            if \"UFFTYPER\" in rdkit_output:\n",
    "                print(f\"Skipping SMILES: {smiles} due to unrecognized atom type.\")\n",
    "                return None, None\n",
    "    \n",
    "    energies = [energy for _, energy in results]\n",
    "    \n",
    "    # Clone and reorder conformers according to their energies\n",
    "    mol_clone = copy.deepcopy(mol)\n",
    "    ordered_conformers = [conf for _, conf in sorted(zip(energies, mol_clone.GetConformers()), key=lambda x: x[0])]\n",
    "    \n",
    "    return ordered_conformers, mol_clone\n",
    "\n",
    "def smiles_to_atoms(mol, conformer):\n",
    "    positions = mol.GetConformer(conformer.GetId()).GetPositions()\n",
    "    symbols = [atom.GetSymbol() for atom in mol.GetAtoms()]\n",
    "    return Atoms(symbols=symbols, positions=positions)\n",
    "\n",
    "def create_ase_db(smiles_list, db_name):\n",
    "    db = connect(db_name)\n",
    "    for smiles in smiles_list:\n",
    "        conformers, mol = generate_conformers(smiles)\n",
    "        if not conformers:\n",
    "            # print(f\"Skipping SMILES: {smiles} due to previous errors.\")\n",
    "            continue\n",
    "        \n",
    "        for conformer in conformers:\n",
    "            atoms = smiles_to_atoms(mol, conformer)\n",
    "            db.write(atoms, smiles=smiles)\n",
    "\n",
    "\n",
    "# Usage with unique chromophores and solvents\n",
    "unique_chromophores = data_dropped['Chromophore'].unique()\n",
    "filtered_chromophores = [smiles for smiles in unique_chromophores if \"I\" not in smiles]\n",
    "unique_solvents = data_dropped['Solvent'].unique()\n",
    "filtered_solvents = [smiles for smiles in unique_solvents if \"I\" not in smiles]\n",
    "\n",
    "create_ase_db(filtered_chromophores, 'chromophore_10_conformers.db')\n",
    "create_ase_db(filtered_solvents, 'solvent_10_conformers.db')"
   ]
  },
  {
   "cell_type": "code",
   "execution_count": 4,
   "metadata": {},
   "outputs": [
    {
     "data": {
      "text/plain": [
       "4384"
      ]
     },
     "execution_count": 4,
     "metadata": {},
     "output_type": "execute_result"
    }
   ],
   "source": [
    "from ase.db import connect\n",
    "db = connect('/home/maligina/conformers_1_chromophore_train.db') #43831 #4384\n",
    "# db = connect('/home/maligina/conformers_1_solvent_train_short.db') #263\n",
    "# db = connect('/home/maligina/conformers_1_chromophore_train_short.db') #4383\n",
    "# db = connect('/home/maligina/filtered_chromophore.db') #4391\n",
    "# db = connect('/home/maligina/filtered_solvent.db') #263\n",
    "\n",
    "# for row in db.select():\n",
    "#     atoms = row.toatoms()\n",
    "#     print(atoms)\n",
    "len(db)\n",
    "# for row in db.select():\n",
    "#     # Extract the 3D structure as an ASE Atoms object\n",
    "#     atoms = row.toatoms()\n",
    "#     forces = row.get('smiles')\n",
    "#     conformer_id = row.get('id', None)\n",
    "#     number = atoms.get_atomic_numbers()\n",
    "\n",
    "#     print(f'Atomic numbers: {number}')\n",
    "#     print(f\"Conformer ID: {conformer_id}\")\n",
    "#     print(f\"Smiles: {forces}\")\n",
    "#     print(f\"Positions:\\n{atoms.get_positions()}\")"
   ]
  },
  {
   "cell_type": "code",
   "execution_count": 2,
   "metadata": {},
   "outputs": [],
   "source": [
    "from ase.db import connect\n",
    "\n",
    "def create_smallest_energy_db(original_db_name, new_db_name):\n",
    "    original_db = connect(original_db_name)\n",
    "    new_db = connect(new_db_name)\n",
    "\n",
    "    # Keep track of processed SMILES\n",
    "    processed_smiles = set()\n",
    "\n",
    "    # Iterate through the original database\n",
    "    for row in original_db.select():\n",
    "        smiles = row.smiles\n",
    "        \n",
    "        # If SMILES has not been processed, add the first conformer to the new DB\n",
    "        if smiles not in processed_smiles:\n",
    "            new_db.write(row.toatoms(), smiles=smiles)\n",
    "            processed_smiles.add(smiles)\n",
    "\n",
    "# Example usage\n",
    "create_smallest_energy_db('conformers_10_chromophore_train.db', 'conformers_1_chromophore_train.db')\n"
   ]
  },
  {
   "cell_type": "code",
   "execution_count": 9,
   "metadata": {},
   "outputs": [
    {
     "name": "stdout",
     "output_type": "stream",
     "text": [
      "anaconda3\t\t\t   data_preparation.ipynb\n",
      "chromophore_10_conformers.db\t   db.py\n",
      "chromophore_11_conformers.db\t   db_test.py\n",
      "conformers_10_chromophore_test.db  filtered_chromophore.db\n",
      "conformers_10_solvent_test.db\t   filtered_solvent.db\n",
      "conformers_10_solvent_train.db\t   nablaDFT\n",
      "data\n"
     ]
    }
   ],
   "source": [
    "!ls"
   ]
  },
  {
   "cell_type": "code",
   "execution_count": null,
   "metadata": {},
   "outputs": [],
   "source": []
  }
 ],
 "metadata": {
  "kernelspec": {
   "display_name": "rdkit_env",
   "language": "python",
   "name": "python3"
  },
  "language_info": {
   "codemirror_mode": {
    "name": "ipython",
    "version": 3
   },
   "file_extension": ".py",
   "mimetype": "text/x-python",
   "name": "python",
   "nbconvert_exporter": "python",
   "pygments_lexer": "ipython3",
   "version": "3.12.5"
  }
 },
 "nbformat": 4,
 "nbformat_minor": 2
}
