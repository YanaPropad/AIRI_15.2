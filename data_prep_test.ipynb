{
 "cells": [
  {
   "cell_type": "code",
   "execution_count": 1,
   "metadata": {},
   "outputs": [],
   "source": [
    "import pandas as pd\n",
    "import numpy as np\n",
    "import matplotlib.pyplot as plt"
   ]
  },
  {
   "cell_type": "markdown",
   "metadata": {},
   "source": [
    "# Table cleaning"
   ]
  },
  {
   "cell_type": "code",
   "execution_count": 3,
   "metadata": {},
   "outputs": [
    {
     "data": {
      "text/plain": [
       "(1850, 16)"
      ]
     },
     "execution_count": 3,
     "metadata": {},
     "output_type": "execute_result"
    }
   ],
   "source": [
    "data = pd.read_csv('/home/maligina/data/test_split_fluor.csv')\n",
    "data = data.rename(columns={'Absorption max (nm)' : 'Absorption_max_nm', \"Emission max (nm)\": \"Emission_max_nm\", \"Quantum yield\": \"Quantum_yield\", 'Stokes shift':'Stokes_shift'})\n",
    "print('pearson =', data['Absorption_max_nm'].corr(data['Emission_max_nm']))\n",
    "print('spearman =', data['Absorption_max_nm'].corr(data['Emission_max_nm'], method = 'spearman'))"
   ]
  },
  {
   "cell_type": "code",
   "execution_count": 3,
   "metadata": {},
   "outputs": [
    {
     "data": {
      "text/html": [
       "<div>\n",
       "<style scoped>\n",
       "    .dataframe tbody tr th:only-of-type {\n",
       "        vertical-align: middle;\n",
       "    }\n",
       "\n",
       "    .dataframe tbody tr th {\n",
       "        vertical-align: top;\n",
       "    }\n",
       "\n",
       "    .dataframe thead th {\n",
       "        text-align: right;\n",
       "    }\n",
       "</style>\n",
       "<table border=\"1\" class=\"dataframe\">\n",
       "  <thead>\n",
       "    <tr style=\"text-align: right;\">\n",
       "      <th></th>\n",
       "      <th>Absorption_max_nm</th>\n",
       "      <th>Emission_max_nm</th>\n",
       "      <th>Quantum_yield</th>\n",
       "      <th>Stokes_shift</th>\n",
       "      <th>Lifetime (ns)</th>\n",
       "      <th>Molecular weight (g mol-1)</th>\n",
       "    </tr>\n",
       "  </thead>\n",
       "  <tbody>\n",
       "    <tr>\n",
       "      <th>Absorption_max_nm</th>\n",
       "      <td>1.000000</td>\n",
       "      <td>0.839763</td>\n",
       "      <td>0.102745</td>\n",
       "      <td>-0.286138</td>\n",
       "      <td>0.092630</td>\n",
       "      <td>0.379503</td>\n",
       "    </tr>\n",
       "    <tr>\n",
       "      <th>Emission_max_nm</th>\n",
       "      <td>0.839763</td>\n",
       "      <td>1.000000</td>\n",
       "      <td>-0.019944</td>\n",
       "      <td>0.192375</td>\n",
       "      <td>0.085671</td>\n",
       "      <td>0.345764</td>\n",
       "    </tr>\n",
       "    <tr>\n",
       "      <th>Quantum_yield</th>\n",
       "      <td>0.102745</td>\n",
       "      <td>-0.019944</td>\n",
       "      <td>1.000000</td>\n",
       "      <td>-0.196689</td>\n",
       "      <td>0.340093</td>\n",
       "      <td>0.171795</td>\n",
       "    </tr>\n",
       "    <tr>\n",
       "      <th>Stokes_shift</th>\n",
       "      <td>-0.286138</td>\n",
       "      <td>0.192375</td>\n",
       "      <td>-0.196689</td>\n",
       "      <td>1.000000</td>\n",
       "      <td>-0.012105</td>\n",
       "      <td>-0.106566</td>\n",
       "    </tr>\n",
       "    <tr>\n",
       "      <th>Lifetime (ns)</th>\n",
       "      <td>0.092630</td>\n",
       "      <td>0.085671</td>\n",
       "      <td>0.340093</td>\n",
       "      <td>-0.012105</td>\n",
       "      <td>1.000000</td>\n",
       "      <td>-0.064394</td>\n",
       "    </tr>\n",
       "    <tr>\n",
       "      <th>Molecular weight (g mol-1)</th>\n",
       "      <td>0.379503</td>\n",
       "      <td>0.345764</td>\n",
       "      <td>0.171795</td>\n",
       "      <td>-0.106566</td>\n",
       "      <td>-0.064394</td>\n",
       "      <td>1.000000</td>\n",
       "    </tr>\n",
       "  </tbody>\n",
       "</table>\n",
       "</div>"
      ],
      "text/plain": [
       "                            Absorption_max_nm  Emission_max_nm  Quantum_yield  \\\n",
       "Absorption_max_nm                    1.000000         0.839763       0.102745   \n",
       "Emission_max_nm                      0.839763         1.000000      -0.019944   \n",
       "Quantum_yield                        0.102745        -0.019944       1.000000   \n",
       "Stokes_shift                        -0.286138         0.192375      -0.196689   \n",
       "Lifetime (ns)                        0.092630         0.085671       0.340093   \n",
       "Molecular weight (g mol-1)           0.379503         0.345764       0.171795   \n",
       "\n",
       "                            Stokes_shift  Lifetime (ns)  \\\n",
       "Absorption_max_nm              -0.286138       0.092630   \n",
       "Emission_max_nm                 0.192375       0.085671   \n",
       "Quantum_yield                  -0.196689       0.340093   \n",
       "Stokes_shift                    1.000000      -0.012105   \n",
       "Lifetime (ns)                  -0.012105       1.000000   \n",
       "Molecular weight (g mol-1)     -0.106566      -0.064394   \n",
       "\n",
       "                            Molecular weight (g mol-1)  \n",
       "Absorption_max_nm                             0.379503  \n",
       "Emission_max_nm                               0.345764  \n",
       "Quantum_yield                                 0.171795  \n",
       "Stokes_shift                                 -0.106566  \n",
       "Lifetime (ns)                                -0.064394  \n",
       "Molecular weight (g mol-1)                    1.000000  "
      ]
     },
     "execution_count": 3,
     "metadata": {},
     "output_type": "execute_result"
    }
   ],
   "source": [
    "data[['Absorption_max_nm', 'Emission_max_nm', 'Quantum_yield', 'Stokes_shift', 'Lifetime (ns)', 'Molecular weight (g mol-1)']].corr(method = 'spearman')"
   ]
  },
  {
   "cell_type": "code",
   "execution_count": 4,
   "metadata": {},
   "outputs": [
    {
     "data": {
      "text/html": [
       "<div>\n",
       "<style scoped>\n",
       "    .dataframe tbody tr th:only-of-type {\n",
       "        vertical-align: middle;\n",
       "    }\n",
       "\n",
       "    .dataframe tbody tr th {\n",
       "        vertical-align: top;\n",
       "    }\n",
       "\n",
       "    .dataframe thead th {\n",
       "        text-align: right;\n",
       "    }\n",
       "</style>\n",
       "<table border=\"1\" class=\"dataframe\">\n",
       "  <thead>\n",
       "    <tr style=\"text-align: right;\">\n",
       "      <th></th>\n",
       "      <th>Unnamed: 0</th>\n",
       "      <th>Tag</th>\n",
       "      <th>Chromophore</th>\n",
       "      <th>Solvent</th>\n",
       "      <th>Absorption_max_nm</th>\n",
       "      <th>Emission_max_nm</th>\n",
       "      <th>Lifetime (ns)</th>\n",
       "      <th>Quantum_yield</th>\n",
       "      <th>log(e/mol-1 dm3 cm-1)</th>\n",
       "      <th>abs FWHM (cm-1)</th>\n",
       "      <th>emi FWHM (cm-1)</th>\n",
       "      <th>abs FWHM (nm)</th>\n",
       "      <th>emi FWHM (nm)</th>\n",
       "      <th>Molecular weight (g mol-1)</th>\n",
       "      <th>Reference</th>\n",
       "      <th>Stokes_shift</th>\n",
       "    </tr>\n",
       "  </thead>\n",
       "  <tbody>\n",
       "    <tr>\n",
       "      <th>0</th>\n",
       "      <td>14307</td>\n",
       "      <td>14308</td>\n",
       "      <td>CC[C@H](C)COc1ccc(C2=C3C(C)=C(I)C(C)=[N+]3[B-]...</td>\n",
       "      <td>ClCCl</td>\n",
       "      <td>532.0</td>\n",
       "      <td>557.0</td>\n",
       "      <td>NaN</td>\n",
       "      <td>0.06</td>\n",
       "      <td>NaN</td>\n",
       "      <td>NaN</td>\n",
       "      <td>NaN</td>\n",
       "      <td>NaN</td>\n",
       "      <td>NaN</td>\n",
       "      <td>662.09838</td>\n",
       "      <td>https://doi.org/10.1016/j.inoche.2015.10.029</td>\n",
       "      <td>25.0</td>\n",
       "    </tr>\n",
       "    <tr>\n",
       "      <th>1</th>\n",
       "      <td>7421</td>\n",
       "      <td>7422</td>\n",
       "      <td>CN(C)c1ccc(C2=Nc3sc4cc(C(F)(F)F)ccc4[n+]3[B-](...</td>\n",
       "      <td>ClCCl</td>\n",
       "      <td>431.0</td>\n",
       "      <td>478.0</td>\n",
       "      <td>NaN</td>\n",
       "      <td>1.00</td>\n",
       "      <td>NaN</td>\n",
       "      <td>NaN</td>\n",
       "      <td>NaN</td>\n",
       "      <td>42.7</td>\n",
       "      <td>46.6</td>\n",
       "      <td>413.17722</td>\n",
       "      <td>DOI: 10.1021/acs.joc.8b02098</td>\n",
       "      <td>47.0</td>\n",
       "    </tr>\n",
       "    <tr>\n",
       "      <th>2</th>\n",
       "      <td>20037</td>\n",
       "      <td>20038</td>\n",
       "      <td>CCCCCCOc1cc(/C=C/c2cc(OCCCCCC)c(/C=C/c3cc(OCCC...</td>\n",
       "      <td>ClCCl</td>\n",
       "      <td>518.0</td>\n",
       "      <td>624.0</td>\n",
       "      <td>1.89</td>\n",
       "      <td>0.13</td>\n",
       "      <td>4.9</td>\n",
       "      <td>NaN</td>\n",
       "      <td>NaN</td>\n",
       "      <td>NaN</td>\n",
       "      <td>NaN</td>\n",
       "      <td>1035.46260</td>\n",
       "      <td>DOI: 10.1021/ol1007263</td>\n",
       "      <td>106.0</td>\n",
       "    </tr>\n",
       "  </tbody>\n",
       "</table>\n",
       "</div>"
      ],
      "text/plain": [
       "   Unnamed: 0    Tag                                        Chromophore  \\\n",
       "0       14307  14308  CC[C@H](C)COc1ccc(C2=C3C(C)=C(I)C(C)=[N+]3[B-]...   \n",
       "1        7421   7422  CN(C)c1ccc(C2=Nc3sc4cc(C(F)(F)F)ccc4[n+]3[B-](...   \n",
       "2       20037  20038  CCCCCCOc1cc(/C=C/c2cc(OCCCCCC)c(/C=C/c3cc(OCCC...   \n",
       "\n",
       "  Solvent  Absorption_max_nm  Emission_max_nm  Lifetime (ns)  Quantum_yield  \\\n",
       "0   ClCCl              532.0            557.0            NaN           0.06   \n",
       "1   ClCCl              431.0            478.0            NaN           1.00   \n",
       "2   ClCCl              518.0            624.0           1.89           0.13   \n",
       "\n",
       "   log(e/mol-1 dm3 cm-1)  abs FWHM (cm-1)  emi FWHM (cm-1)  abs FWHM (nm)  \\\n",
       "0                    NaN              NaN              NaN            NaN   \n",
       "1                    NaN              NaN              NaN           42.7   \n",
       "2                    4.9              NaN              NaN            NaN   \n",
       "\n",
       "   emi FWHM (nm)  Molecular weight (g mol-1)  \\\n",
       "0            NaN                   662.09838   \n",
       "1           46.6                   413.17722   \n",
       "2            NaN                  1035.46260   \n",
       "\n",
       "                                      Reference  Stokes_shift  \n",
       "0  https://doi.org/10.1016/j.inoche.2015.10.029          25.0  \n",
       "1                  DOI: 10.1021/acs.joc.8b02098          47.0  \n",
       "2                        DOI: 10.1021/ol1007263         106.0  "
      ]
     },
     "execution_count": 4,
     "metadata": {},
     "output_type": "execute_result"
    }
   ],
   "source": [
    "data.head(3)"
   ]
  },
  {
   "cell_type": "code",
   "execution_count": 5,
   "metadata": {},
   "outputs": [
    {
     "name": "stdout",
     "output_type": "stream",
     "text": [
      "Unnamed: 0                       0\n",
      "Tag                              0\n",
      "Chromophore                      0\n",
      "Solvent                          0\n",
      "Absorption_max_nm              204\n",
      "Emission_max_nm                175\n",
      "Lifetime (ns)                 1173\n",
      "Quantum_yield                  551\n",
      "log(e/mol-1 dm3 cm-1)         1060\n",
      "abs FWHM (cm-1)               1787\n",
      "emi FWHM (cm-1)               1789\n",
      "abs FWHM (nm)                 1497\n",
      "emi FWHM (nm)                 1188\n",
      "Molecular weight (g mol-1)       0\n",
      "Reference                        0\n",
      "Stokes_shift                   308\n",
      "dtype: int64\n"
     ]
    }
   ],
   "source": [
    "print(data.isna().sum())"
   ]
  },
  {
   "cell_type": "code",
   "execution_count": 6,
   "metadata": {},
   "outputs": [
    {
     "data": {
      "text/plain": [
       "(1850, 16)"
      ]
     },
     "execution_count": 6,
     "metadata": {},
     "output_type": "execute_result"
    }
   ],
   "source": [
    "data.shape"
   ]
  },
  {
   "cell_type": "code",
   "execution_count": 7,
   "metadata": {},
   "outputs": [
    {
     "name": "stdout",
     "output_type": "stream",
     "text": [
      "Number of outliers using IQR method: 87\n"
     ]
    },
    {
     "data": {
      "text/plain": [
       "(1763, 16)"
      ]
     },
     "execution_count": 7,
     "metadata": {},
     "output_type": "execute_result"
    }
   ],
   "source": [
    "Q1 = data['Molecular weight (g mol-1)'].quantile(0.25)\n",
    "Q3 = data['Molecular weight (g mol-1)'].quantile(0.75)\n",
    "IQR = Q3 - Q1\n",
    "\n",
    "# Define the lower and upper bounds for detecting outliers\n",
    "lower_bound = Q1 - 1.5 * IQR #тут примерно 941.3\n",
    "upper_bound = Q3 + 1.5 * IQR\n",
    "\n",
    "outliers_iqr = data[(data['Molecular weight (g mol-1)'] < lower_bound) | (data['Molecular weight (g mol-1)'] > upper_bound)]\n",
    "print(f\"Number of outliers using IQR method: {len(outliers_iqr)}\")\n",
    "\n",
    "data = data[(data['Molecular weight (g mol-1)'] >= lower_bound) & (data['Molecular weight (g mol-1)'] <= upper_bound)]\n",
    "data.shape"
   ]
  },
  {
   "cell_type": "code",
   "execution_count": 8,
   "metadata": {},
   "outputs": [
    {
     "data": {
      "text/plain": [
       "(1465, 16)"
      ]
     },
     "execution_count": 8,
     "metadata": {},
     "output_type": "execute_result"
    }
   ],
   "source": [
    "data = data[data['Stokes_shift'] >= 0]\n",
    "data.shape"
   ]
  },
  {
   "cell_type": "code",
   "execution_count": 9,
   "metadata": {},
   "outputs": [
    {
     "name": "stdout",
     "output_type": "stream",
     "text": [
      "(1115, 16)\n",
      "Unnamed: 0                       0\n",
      "Tag                              0\n",
      "Chromophore                      0\n",
      "Solvent                          0\n",
      "Absorption_max_nm                0\n",
      "Emission_max_nm                  0\n",
      "Lifetime (ns)                  600\n",
      "Quantum_yield                    0\n",
      "log(e/mol-1 dm3 cm-1)          492\n",
      "abs FWHM (cm-1)               1071\n",
      "emi FWHM (cm-1)               1069\n",
      "abs FWHM (nm)                  860\n",
      "emi FWHM (nm)                  694\n",
      "Molecular weight (g mol-1)       0\n",
      "Reference                        0\n",
      "Stokes_shift                     0\n",
      "dtype: int64\n"
     ]
    }
   ],
   "source": [
    "data_dropped = data.dropna(subset=['Absorption_max_nm', 'Emission_max_nm', 'Quantum_yield']).reset_index(drop=True)\n",
    "print(data_dropped.shape)\n",
    "print(data_dropped.isna().sum())"
   ]
  },
  {
   "cell_type": "code",
   "execution_count": 10,
   "metadata": {},
   "outputs": [
    {
     "data": {
      "image/png": "[encoded data removed]",
      "text/plain": [
       "<Figure size 640x480 with 1 Axes>"
      ]
     },
     "metadata": {},
     "output_type": "display_data"
    }
   ],
   "source": [
    "# data_dropped.hist(column=['Absorption_max_nm', 'Emission_max_nm', 'Quantum_yield', 'Stokes_shift'])\n",
    "data_dropped.boxplot(column=['Absorption_max_nm', 'Emission_max_nm', 'Quantum_yield', 'Stokes_shift'])\n",
    "plt.show()"
   ]
  },
  {
   "cell_type": "code",
   "execution_count": 11,
   "metadata": {},
   "outputs": [
    {
     "data": {
      "image/png": "[encoded data removed]",
      "text/plain": [
       "<Figure size 640x480 with 1 Axes>"
      ]
     },
     "metadata": {},
     "output_type": "display_data"
    }
   ],
   "source": [
    "data_dropped.hist(column=['Molecular weight (g mol-1)'])\n",
    "plt.show()"
   ]
  },
  {
   "cell_type": "code",
   "execution_count": 12,
   "metadata": {},
   "outputs": [
    {
     "data": {
      "text/html": [
       "<div>\n",
       "<style scoped>\n",
       "    .dataframe tbody tr th:only-of-type {\n",
       "        vertical-align: middle;\n",
       "    }\n",
       "\n",
       "    .dataframe tbody tr th {\n",
       "        vertical-align: top;\n",
       "    }\n",
       "\n",
       "    .dataframe thead th {\n",
       "        text-align: right;\n",
       "    }\n",
       "</style>\n",
       "<table border=\"1\" class=\"dataframe\">\n",
       "  <thead>\n",
       "    <tr style=\"text-align: right;\">\n",
       "      <th></th>\n",
       "      <th>Chromophore</th>\n",
       "      <th>Solvent</th>\n",
       "    </tr>\n",
       "  </thead>\n",
       "  <tbody>\n",
       "    <tr>\n",
       "      <th>0</th>\n",
       "      <td>CC[C@H](C)COc1ccc(C2=C3C(C)=C(I)C(C)=[N+]3[B-]...</td>\n",
       "      <td>ClCCl</td>\n",
       "    </tr>\n",
       "    <tr>\n",
       "      <th>1</th>\n",
       "      <td>CN(C)c1ccc(C2=Nc3sc4cc(C(F)(F)F)ccc4[n+]3[B-](...</td>\n",
       "      <td>ClCCl</td>\n",
       "    </tr>\n",
       "    <tr>\n",
       "      <th>2</th>\n",
       "      <td>CCN1C(=O)C(C2C(=O)c3c4ccccc4cc4cc5ccccc5c2c34)...</td>\n",
       "      <td>ClCCl</td>\n",
       "    </tr>\n",
       "  </tbody>\n",
       "</table>\n",
       "</div>"
      ],
      "text/plain": [
       "                                         Chromophore Solvent\n",
       "0  CC[C@H](C)COc1ccc(C2=C3C(C)=C(I)C(C)=[N+]3[B-]...   ClCCl\n",
       "1  CN(C)c1ccc(C2=Nc3sc4cc(C(F)(F)F)ccc4[n+]3[B-](...   ClCCl\n",
       "2  CCN1C(=O)C(C2C(=O)c3c4ccccc4cc4cc5ccccc5c2c34)...   ClCCl"
      ]
     },
     "execution_count": 12,
     "metadata": {},
     "output_type": "execute_result"
    }
   ],
   "source": [
    "X = data_dropped[['Chromophore', 'Solvent']]\n",
    "X.head(3)"
   ]
  },
  {
   "cell_type": "code",
   "execution_count": 13,
   "metadata": {},
   "outputs": [
    {
     "name": "stderr",
     "output_type": "stream",
     "text": [
      "/tmp/ipykernel_98780/297302290.py:2: SettingWithCopyWarning: \n",
      "A value is trying to be set on a copy of a slice from a DataFrame.\n",
      "Try using .loc[row_indexer,col_indexer] = value instead\n",
      "\n",
      "See the caveats in the documentation: https://pandas.pydata.org/pandas-docs/stable/user_guide/indexing.html#returning-a-view-versus-a-copy\n",
      "  y['Absorption_max_nm'] = np.log10(y['Absorption_max_nm'])\n"
     ]
    },
    {
     "data": {
      "text/html": [
       "<div>\n",
       "<style scoped>\n",
       "    .dataframe tbody tr th:only-of-type {\n",
       "        vertical-align: middle;\n",
       "    }\n",
       "\n",
       "    .dataframe tbody tr th {\n",
       "        vertical-align: top;\n",
       "    }\n",
       "\n",
       "    .dataframe thead th {\n",
       "        text-align: right;\n",
       "    }\n",
       "</style>\n",
       "<table border=\"1\" class=\"dataframe\">\n",
       "  <thead>\n",
       "    <tr style=\"text-align: right;\">\n",
       "      <th></th>\n",
       "      <th>Absorption_max_nm</th>\n",
       "      <th>Quantum_yield</th>\n",
       "      <th>Stokes_shift</th>\n",
       "    </tr>\n",
       "  </thead>\n",
       "  <tbody>\n",
       "    <tr>\n",
       "      <th>0</th>\n",
       "      <td>2.725912</td>\n",
       "      <td>0.060</td>\n",
       "      <td>25.000000</td>\n",
       "    </tr>\n",
       "    <tr>\n",
       "      <th>1</th>\n",
       "      <td>2.634477</td>\n",
       "      <td>1.000</td>\n",
       "      <td>47.000000</td>\n",
       "    </tr>\n",
       "    <tr>\n",
       "      <th>2</th>\n",
       "      <td>2.725999</td>\n",
       "      <td>0.237</td>\n",
       "      <td>49.892586</td>\n",
       "    </tr>\n",
       "  </tbody>\n",
       "</table>\n",
       "</div>"
      ],
      "text/plain": [
       "   Absorption_max_nm  Quantum_yield  Stokes_shift\n",
       "0           2.725912          0.060     25.000000\n",
       "1           2.634477          1.000     47.000000\n",
       "2           2.725999          0.237     49.892586"
      ]
     },
     "execution_count": 13,
     "metadata": {},
     "output_type": "execute_result"
    }
   ],
   "source": [
    "y = data_dropped[['Absorption_max_nm', 'Quantum_yield', 'Stokes_shift']]\n",
    "y['Absorption_max_nm'] = np.log10(y['Absorption_max_nm'])\n",
    "y.head(3)"
   ]
  },
  {
   "cell_type": "code",
   "execution_count": 14,
   "metadata": {},
   "outputs": [],
   "source": [
    "# data_dropped.to_csv('/home/maligina/data/test_clean.csv')"
   ]
  },
  {
   "cell_type": "markdown",
   "metadata": {},
   "source": [
    "# Database preparation"
   ]
  },
  {
   "cell_type": "code",
   "execution_count": 4,
   "metadata": {},
   "outputs": [
    {
     "data": {
      "text/plain": [
       "(1115, 17)"
      ]
     },
     "execution_count": 4,
     "metadata": {},
     "output_type": "execute_result"
    }
   ],
   "source": [
    "data_dropped = pd.read_csv('/home/maligina/data/test_clean.csv')\n",
    "data_dropped.shape"
   ]
  },
  {
   "cell_type": "code",
   "execution_count": 16,
   "metadata": {},
   "outputs": [],
   "source": [
    "from rdkit import Chem\n",
    "from rdkit.Chem import AllChem\n",
    "from ase import Atoms\n",
    "from ase.db import connect\n",
    "from rdkit.Chem import rdForceFieldHelpers"
   ]
  },
  {
   "cell_type": "markdown",
   "metadata": {},
   "source": [
    "Iodine removal"
   ]
  },
  {
   "cell_type": "code",
   "execution_count": 11,
   "metadata": {},
   "outputs": [
    {
     "name": "stdout",
     "output_type": "stream",
     "text": [
      "263\n"
     ]
    }
   ],
   "source": [
    "# # Connect to the existing database\n",
    "# db_old = connect('solvent.db')\n",
    "# # Create a new database to store filtered molecules\n",
    "# db_new = connect('filtered_solvent.db')\n",
    "\n",
    "# # Iterate through the existing database\n",
    "# for row in db_old.select():\n",
    "#     atoms = row.toatoms()\n",
    "    \n",
    "#     # Check if iodine (atomic number 53) is present\n",
    "#     if 53 not in atoms.get_atomic_numbers():\n",
    "#         # Write the entry to the new database\n",
    "#         db_new.write(atoms, key_value_pairs=row.key_value_pairs)\n",
    "# print(len(db_new))"
   ]
  },
  {
   "cell_type": "markdown",
   "metadata": {},
   "source": [
    "Basic generation of one conformer"
   ]
  },
  {
   "cell_type": "code",
   "execution_count": 19,
   "metadata": {},
   "outputs": [],
   "source": [
    "def smiles_to_ase(smiles):\n",
    "    mol = Chem.MolFromSmiles(smiles)\n",
    "    mol = Chem.AddHs(mol)\n",
    "    \n",
    "    # Embed with multiple attempts to handle difficult molecules\n",
    "    try:\n",
    "        AllChem.EmbedMolecule(mol, maxAttempts=1000)\n",
    "        # ff = rdForceFieldHelpers.UFFGetMoleculeForceField(mol)\n",
    "        # print(f'Energy for {smiles} before: {ff.CalcEnergy()}')\n",
    "        AllChem.UFFOptimizeMolecule(mol, maxIters=10000)\n",
    "        # ff = rdForceFieldHelpers.UFFGetMoleculeForceField(mol)\n",
    "        # print(f'Energy after: {ff.CalcEnergy()}')\n",
    "    except ValueError as e:\n",
    "        print(f\"Failed to generate 3D conformer for SMILES: {smiles}, Error: {str(e)}\")\n",
    "        return None\n",
    "    \n",
    "    conformer = mol.GetConformer()\n",
    "    positions = []\n",
    "    symbols = []\n",
    "    \n",
    "    for atom in mol.GetAtoms():\n",
    "        pos = conformer.GetAtomPosition(atom.GetIdx())\n",
    "        positions.append((pos.x, pos.y, pos.z))\n",
    "        symbols.append(atom.GetSymbol())\n",
    "    \n",
    "    return Atoms(symbols=symbols, positions=positions)"
   ]
  },
  {
   "cell_type": "markdown",
   "metadata": {},
   "source": [
    "Fake code"
   ]
  },
  {
   "cell_type": "code",
   "execution_count": 49,
   "metadata": {},
   "outputs": [
    {
     "name": "stderr",
     "output_type": "stream",
     "text": [
      "<>:3: SyntaxWarning: invalid escape sequence '\\c'\n",
      "<>:7: SyntaxWarning: invalid escape sequence '\\c'\n",
      "<>:3: SyntaxWarning: invalid escape sequence '\\c'\n",
      "<>:7: SyntaxWarning: invalid escape sequence '\\c'\n",
      "/tmp/ipykernel_85223/3879483094.py:3: SyntaxWarning: invalid escape sequence '\\c'\n",
      "  'C(=C/c1cc(/C=C/c2ccc(N(c3ccccc3)c3ccccc3)cc2)nc(/C=C/c2ccc(N(c3ccccc3)c3ccccc3)cc2)n1)\\c1ccc(N(c2ccccc2)c2ccccc2)cc1',\n",
      "/tmp/ipykernel_85223/3879483094.py:7: SyntaxWarning: invalid escape sequence '\\c'\n",
      "  'C(=C/c1cc(/C=C/c2ccc(-n3c4ccccc4c4ccccc43)cc2)cc(/C=C/c2ccc(-n3c4ccccc4c4ccccc43)cc2)c1)\\c1ccc(-n2c3ccccc3c3ccccc32)cc1']\n"
     ]
    },
    {
     "name": "stdout",
     "output_type": "stream",
     "text": [
      "Failed to generate 3D conformer for SMILES: COCCOCCOCCNc1cc2c3c(c(NCCOCCOCCOC)cc4c3c1C(=O)N(CCOCCOCCOC)C4=O)C(=O)N(CCOCCOCCOC)C2=O\n",
      "Failed to generate 3D conformer for SMILES: CCCCCCCCC1(CCCCCCCC)c2cc(-c3ccc([Si](C)(C)C)cc3)ccc2-c2ccc(-c3ccc([Si](C)(C)C)cc3)cc21\n",
      "Failed to generate 3D conformer for SMILES: C(=C/c1cc(/C=C/c2ccc(N(c3ccccc3)c3ccccc3)cc2)nc(/C=C/c2ccc(N(c3ccccc3)c3ccccc3)cc2)n1)\\c1ccc(N(c2ccccc2)c2ccccc2)cc1\n",
      "Failed to generate 3D conformer for SMILES: CCCCCCCCCCCCCCCCOc1cc(C#Cc2ccc3ccccc3c2)c(OCCCCCCCCCCCCCCCC)cc1C#Cc1ccc(C=C(C#N)C#N)cc1\n",
      "Failed to generate 3D conformer for SMILES: CCCCCCCCCCOc1cc(OCCCCCCCCCC)cc(C2=C3C(C)=CC(/C=C/c4ccc(OC)cc4)=[N+]3[B-](F)(F)n3c(/C=C/c4ccc(OC)cc4)cc(C)c32)c1\n",
      "Failed to generate 3D conformer for SMILES: CCCCCCCCC1(CCCCCCCC)c2cc(-c3ccc(C=C4C(=O)c5ccccc5C4=O)cc3)ccc2-c2ccc(-c3ccc(C=C4C(=O)c5ccccc5C4=O)cc3)cc21\n",
      "Failed to generate 3D conformer for SMILES: C(=C/c1cc(/C=C/c2ccc(-n3c4ccccc4c4ccccc43)cc2)cc(/C=C/c2ccc(-n3c4ccccc4c4ccccc43)cc2)c1)\\c1ccc(-n2c3ccccc3c3ccccc32)cc1\n"
     ]
    }
   ],
   "source": [
    "stupid_smiles = ['[BH3-][P+]1(c2ccccc2)c2ccccc2-c2sc3ccccc3c21',\n",
    "                 'c1ccc(-p2c3ccccc3c3sc4ccccc4c32)cc1',\n",
    "                 'O=P1(c2ccccc2)c2ccccc2-c2sc3ccccc3c21',\n",
    "                 'CCCCCCCCCCCCn1cccc1/C=C/c1ccc(OCCCC)c2c(/C=C/c3cccn3CCCCCCCCCCCC)ccc(OCCCC)c12',\n",
    "                 'C[P+]1(c2ccccc2)c2ccccc2-c2sc3ccccc3c21',\n",
    "                 'O=P1(c2ccccc2)C2=C(c3ccccc31)S(=O)(=O)c1ccccc12',\n",
    "                 'C[P+]1(c2ccccc2)C2=C(c3ccccc31)S(=O)(=O)c1ccccc12',\n",
    "                 'CCCCCC(=O)c1ccc2c3c(sc2c1)-c1ccccc1P3(=O)c1ccccc1',\n",
    "                 'COCCOCCOCCNc1cc2c3c(c(NCCOCCOCCOC)cc4c3c1C(=O)N(CCOCCOCCOC)C4=O)C(=O)N(CCOCCOCCOC)C2=O',\n",
    "                 'CCCCCCCCC1(CCCCCCCC)c2cc(-c3ccc([Si](C)(C)C)cc3)ccc2-c2ccc(-c3ccc([Si](C)(C)C)cc3)cc21',\n",
    "                 'C(=C/c1cc(/C=C/c2ccc(N(c3ccccc3)c3ccccc3)cc2)nc(/C=C/c2ccc(N(c3ccccc3)c3ccccc3)cc2)n1)\\c1ccc(N(c2ccccc2)c2ccccc2)cc1',\n",
    "                 'CCCCCCCCCCCCCCCCOc1cc(C#Cc2ccc3ccccc3c2)c(OCCCCCCCCCCCCCCCC)cc1C#Cc1ccc(C=C(C#N)C#N)cc1']\n",
    "\n",
    "db_stupid = connect('stupid.db')\n",
    "\n",
    "# Iterate over chromophores\n",
    "for smiles in stupid_smiles:\n",
    "    stupid_ase = smiles_to_ase(smiles)\n",
    "\n",
    "    if stupid_ase:\n",
    "        db_stupid.write(stupid_ase, smiles=smiles)"
   ]
  },
  {
   "cell_type": "markdown",
   "metadata": {},
   "source": [
    "Test and view the db"
   ]
  },
  {
   "cell_type": "code",
   "execution_count": 10,
   "metadata": {},
   "outputs": [
    {
     "data": {
      "text/plain": [
       "48"
      ]
     },
     "execution_count": 10,
     "metadata": {},
     "output_type": "execute_result"
    }
   ],
   "source": [
    "from ase.db import connect\n",
    "db = connect('/home/maligina/conformers_1_solvent_test.db')\n",
    "# for row in db.select():\n",
    "#     atoms = row.toatoms()\n",
    "#     print(atoms)\n",
    "len(db)\n",
    "\n",
    "# for row in db.select():\n",
    "#     # Extract the 3D structure as an ASE Atoms object\n",
    "#     atoms = row.toatoms()\n",
    "#     forces = row.get('smiles', None)\n",
    "#     conformer_id = row.get('id', None)\n",
    "#     number = atoms.get_atomic_numbers()\n",
    "\n",
    "#     print(f'Atomic numbers: {number}')\n",
    "#     print(f\"Conformer ID: {conformer_id}\")\n",
    "#     print(f\"Smiles: {forces}\")\n",
    "#     print(f\"Positions:\\n{atoms.get_positions()}\")\n"
   ]
  },
  {
   "cell_type": "markdown",
   "metadata": {},
   "source": [
    "Generation of multiple conformers"
   ]
  },
  {
   "cell_type": "code",
   "execution_count": 4,
   "metadata": {},
   "outputs": [],
   "source": [
    "from contextlib import redirect_stderr\n",
    "from io import StringIO\n",
    "import rdkit\n",
    "from rdkit import rdBase, Chem\n",
    "from rdkit.Chem import AllChem, rdDistGeom, rdForceFieldHelpers\n",
    "from ase import Atoms\n",
    "from ase.db import connect\n",
    "import copy\n",
    "\n",
    "# Redirect RDKit logs to stderr\n",
    "rdBase.LogToPythonStderr()\n",
    "\n",
    "def generate_conformers(smiles, num_conformers=10):\n",
    "    mol = Chem.MolFromSmiles(smiles)\n",
    "    mol = Chem.AddHs(mol)\n",
    "    \n",
    "    # Capture RDKit warnings and errors\n",
    "    with StringIO() as buf:\n",
    "        with redirect_stderr(buf):\n",
    "            try:\n",
    "                params = rdDistGeom.ETKDGv3()  # Embedding parameters\n",
    "                params.useRandomCoords = True\n",
    "                rdDistGeom.EmbedMultipleConfs(mol, numConfs=num_conformers, params=params)\n",
    "                results = rdForceFieldHelpers.UFFOptimizeMoleculeConfs(mol, maxIters=10000)\n",
    "            except Exception as e:\n",
    "                print(f\"Failed to generate 3D conformers for SMILES: {smiles}, Error: {e}\")\n",
    "                return None, None\n",
    "            \n",
    "            # Check for \"Unrecognized atom type\" messages\n",
    "            rdkit_output = buf.getvalue()\n",
    "            if \"UFFTYPER\" in rdkit_output:\n",
    "                print(f\"Skipping SMILES: {smiles} due to unrecognized atom type.\")\n",
    "                return None, None\n",
    "    \n",
    "    energies = [energy for _, energy in results]\n",
    "    \n",
    "    # Clone and reorder conformers according to their energies\n",
    "    mol_clone = copy.deepcopy(mol)\n",
    "    ordered_conformers = [conf for _, conf in sorted(zip(energies, mol_clone.GetConformers()), key=lambda x: x[0])]\n",
    "    \n",
    "    return ordered_conformers, mol_clone\n",
    "\n",
    "def smiles_to_atoms(mol, conformer):\n",
    "    positions = mol.GetConformer(conformer.GetId()).GetPositions()\n",
    "    symbols = [atom.GetSymbol() for atom in mol.GetAtoms()]\n",
    "    return Atoms(symbols=symbols, positions=positions)\n",
    "\n",
    "def create_ase_db(smiles_list, db_name):\n",
    "    db = connect(db_name)\n",
    "    for smiles in smiles_list:\n",
    "        conformers, mol = generate_conformers(smiles)\n",
    "        if not conformers:\n",
    "            # print(f\"Skipping SMILES: {smiles} due to previous errors.\")\n",
    "            continue\n",
    "        \n",
    "        for conformer in conformers:\n",
    "            atoms = smiles_to_atoms(mol, conformer)\n",
    "            db.write(atoms, smiles=smiles)\n",
    "\n",
    "\n",
    "# Usage with unique chromophores and solvents\n",
    "unique_chromophores = data_dropped['Chromophore'].unique()\n",
    "filtered_chromophores = [smiles for smiles in unique_chromophores if \"I\" not in smiles]\n",
    "unique_solvents = data_dropped['Solvent'].unique()\n",
    "filtered_solvents = [smiles for smiles in unique_solvents if \"I\" not in smiles]\n",
    "\n",
    "create_ase_db(filtered_chromophores, 'chromophore_10_conformers.db')\n",
    "create_ase_db(filtered_solvents, 'solvent_10_conformers.db')"
   ]
  }
 ],
 "metadata": {
  "kernelspec": {
   "display_name": "rdkit_env",
   "language": "python",
   "name": "python3"
  },
  "language_info": {
   "codemirror_mode": {
    "name": "ipython",
    "version": 3
   },
   "file_extension": ".py",
   "mimetype": "text/x-python",
   "name": "python",
   "nbconvert_exporter": "python",
   "pygments_lexer": "ipython3",
   "version": "3.12.5"
  }
 },
 "nbformat": 4,
 "nbformat_minor": 2
}
